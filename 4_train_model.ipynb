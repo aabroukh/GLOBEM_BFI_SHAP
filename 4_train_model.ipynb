{
 "cells": [
  {
   "cell_type": "code",
   "execution_count": 1,
   "id": "4d55c563-1dd4-4775-8359-1abffddbfd09",
   "metadata": {},
   "outputs": [],
   "source": [
    "import pandas as pd\n",
    "import numpy as np\n",
    "\n",
    "from sklearn.linear_model import LogisticRegression\n",
    "from sklearn.neighbors import NearestNeighbors\n",
    "from sklearn import svm\n",
    "from sklearn.neural_network import MLPClassifier\n",
    "from sklearn.model_selection import cross_val_score\n",
    "from sklearn.metrics import make_scorer, f1_score"
   ]
  },
  {
   "cell_type": "code",
   "execution_count": 2,
   "id": "a9503f43-960d-4acb-a1ab-02646e8012cb",
   "metadata": {},
   "outputs": [],
   "source": [
    "dataset = pd.read_csv('normalized_full_data.csv')\n",
    "dataset = dataset.drop(columns=['Unnamed: 0'])"
   ]
  },
  {
   "cell_type": "code",
   "execution_count": 3,
   "id": "c716be09-286b-4620-8b14-17c0cd4356f5",
   "metadata": {},
   "outputs": [
    {
     "name": "stdout",
     "output_type": "stream",
     "text": [
      "f_blue:phone_bluetooth_doryab_countscansmostfrequentdevicewithinsegmentsall:allday_avg\n",
      "f_blue:phone_bluetooth_doryab_countscansmostfrequentdevicewithinsegmentsall:allday_std\n",
      "f_blue:phone_bluetooth_doryab_uniquedevicesall:evening_avg\n",
      "f_blue:phone_bluetooth_doryab_uniquedevicesall:evening_std\n",
      "f_call:phone_calls_rapids_missed_count:allday_avg\n",
      "f_call:phone_calls_rapids_missed_count:allday_std\n",
      "f_call:phone_calls_rapids_outgoing_countmostfrequentcontact:allday_avg\n",
      "f_call:phone_calls_rapids_outgoing_countmostfrequentcontact:allday_std\n",
      "f_call:phone_calls_rapids_incoming_countmostfrequentcontact:allday_avg\n",
      "f_call:phone_calls_rapids_incoming_countmostfrequentcontact:allday_std\n",
      "f_loc:phone_locations_barnett_hometime:allday_avg_weekdays\n",
      "f_loc:phone_locations_barnett_hometime:allday_std_weekdays\n",
      "f_loc:phone_locations_barnett_hometime:allday_avg_weekend\n",
      "f_loc:phone_locations_barnett_disttravelled:allday_avg_weekdays\n",
      "f_loc:phone_locations_barnett_disttravelled:allday_std_weekdays\n",
      "f_loc:phone_locations_barnett_disttravelled:allday_avg_weekend\n",
      "f_loc:phone_locations_barnett_siglocsvisited:allday_avg_weekdays\n",
      "f_loc:phone_locations_barnett_siglocsvisited:allday_avg_weekend\n",
      "f_loc:phone_locations_barnett_wkenddayrtn:allday_avg_weekdays\n",
      "f_loc:phone_locations_barnett_wkenddayrtn:allday_avg_weekend\n",
      "f_screen:phone_screen_rapids_sumdurationunlock:morning_avg\n",
      "f_screen:phone_screen_rapids_sumdurationunlock:morning_std\n",
      "f_screen:phone_screen_rapids_countepisodeunlock:evening_avg\n",
      "f_screen:phone_screen_rapids_countepisodeunlock:evening_std\n",
      "f_slp:fitbit_sleep_summary_rapids_sumdurationasleepmain:allday_avg\n",
      "f_slp:fitbit_sleep_intraday_rapids_maxdurationasleepunifiedmain:evening_max_week\n",
      "f_slp:fitbit_sleep_intraday_rapids_ratiodurationawakeunifiedwithinmain:morning_avg\n",
      "f_steps:fitbit_steps_intraday_rapids_sumsteps:allday_avg\n",
      "f_steps:fitbit_steps_intraday_rapids_sumsteps:allday_std\n",
      "f_steps:fitbit_steps_intraday_rapids_countepisodesedentarybout:allday_avg\n",
      "f_steps:fitbit_steps_intraday_rapids_sumdurationsedentarybout:allday_avg\n",
      "f_steps:fitbit_steps_intraday_rapids_maxdurationsedentarybout:allday_max_week\n",
      "f_steps:fitbit_steps_intraday_rapids_countepisodeactivebout:allday_avg\n",
      "f_steps:fitbit_steps_intraday_rapids_sumdurationactivebout:allday_avg\n",
      "f_steps:fitbit_steps_intraday_rapids_maxdurationactivebout:allday_max_week\n",
      "BFI10_extroversion_PRE\n",
      "BFI10_agreeableness_PRE\n",
      "BFI10_conscientiousness_PRE\n",
      "BFI10_neuroticism_PRE\n",
      "BFI10_openness_PRE\n",
      "pos_affect\n",
      "neg_affect\n"
     ]
    }
   ],
   "source": [
    "for col in dataset.columns:\n",
    "    print(col)"
   ]
  },
  {
   "cell_type": "code",
   "execution_count": 7,
   "id": "65095458-39d6-4251-8740-3f6a557d4840",
   "metadata": {},
   "outputs": [
    {
     "name": "stdout",
     "output_type": "stream",
     "text": [
      "False\n",
      "9929\n",
      "6.766441736327928\n"
     ]
    }
   ],
   "source": [
    "X = dataset.iloc[:, :-2]\n",
    "y = dataset.iloc[:, -2]\n",
    "print(X.isna().any().any())\n",
    "print(len(y))\n",
    "print(np.mean(y))"
   ]
  },
  {
   "cell_type": "code",
   "execution_count": 10,
   "id": "0f281dbd-05d0-4eac-b65e-524fe8fafcc4",
   "metadata": {},
   "outputs": [],
   "source": [
    "model = MLPClassifier(solver='adam', hidden_layer_sizes=(16, 8, 4), max_iter=1000)\n",
    "scorer = make_scorer(f1_score, average='macro')\n",
    "scores = cross_val_score(model, X, y, cv=5, scoring='accuracy')"
   ]
  },
  {
   "cell_type": "code",
   "execution_count": 11,
   "id": "d36b2fc5-3274-40f3-8641-85244139ec2b",
   "metadata": {},
   "outputs": [
    {
     "name": "stdout",
     "output_type": "stream",
     "text": [
      "Cross-Validation F1 Scores: [0.09365559 0.15256798 0.14350453 0.14048338 0.13803526]\n"
     ]
    }
   ],
   "source": [
    "print(f\"Cross-Validation F1 Scores: {scores}\")"
   ]
  },
  {
   "cell_type": "code",
   "execution_count": null,
   "id": "b1d4fa55-6015-47b8-8842-3407c740f463",
   "metadata": {},
   "outputs": [],
   "source": []
  }
 ],
 "metadata": {
  "kernelspec": {
   "display_name": "med_264",
   "language": "python",
   "name": "med_264"
  },
  "language_info": {
   "codemirror_mode": {
    "name": "ipython",
    "version": 3
   },
   "file_extension": ".py",
   "mimetype": "text/x-python",
   "name": "python",
   "nbconvert_exporter": "python",
   "pygments_lexer": "ipython3",
   "version": "3.11.7"
  }
 },
 "nbformat": 4,
 "nbformat_minor": 5
}
