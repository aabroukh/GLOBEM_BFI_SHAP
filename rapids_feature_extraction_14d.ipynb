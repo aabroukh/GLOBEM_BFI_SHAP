{
 "cells": [
  {
   "cell_type": "code",
   "execution_count": 1,
   "metadata": {
    "colab": {
     "base_uri": "https://localhost:8080/"
    },
    "id": "GmY793e9msxl",
    "outputId": "5213c117-93bb-429c-ec6f-a4be330599ef",
    "tags": []
   },
   "outputs": [
    {
     "name": "stderr",
     "output_type": "stream",
     "text": [
      "/Users/aaron/Desktop/HW/MED_264/lib/python3.11/site-packages/tqdm/auto.py:21: TqdmWarning: IProgress not found. Please update jupyter and ipywidgets. See https://ipywidgets.readthedocs.io/en/stable/user_install.html\n",
      "  from .autonotebook import tqdm as notebook_tqdm\n"
     ]
    }
   ],
   "source": [
    "import os\n",
    "import shap\n",
    "\n",
    "import pandas as pd\n",
    "import numpy as np\n",
    "import matplotlib.pyplot as plt\n",
    "import statsmodels.api as sm\n",
    "\n",
    "from sklearn.impute import KNNImputer\n",
    "from sklearn.model_selection import GridSearchCV, cross_val_score, KFold\n",
    "from sklearn.metrics import make_scorer, mean_squared_error\n",
    "from sklearn.neural_network import MLPRegressor\n",
    "from sklearn.preprocessing import MinMaxScaler\n",
    "from sklearn.ensemble import RandomForestRegressor"
   ]
  },
  {
   "cell_type": "code",
   "execution_count": 2,
   "metadata": {},
   "outputs": [
    {
     "name": "stdout",
     "output_type": "stream",
     "text": [
      "55342\n"
     ]
    }
   ],
   "source": [
    "# get data from all 3 datasets\n",
    "full_feature_data = pd.DataFrame()\n",
    "full_ema_data = pd.DataFrame()\n",
    "full_bfi_data = pd.DataFrame()\n",
    "\n",
    "for i in range(2, 5):\n",
    "    curr_folder = './data/globem/INS-W_'+str(i)\n",
    "    rapids_df = pd.read_csv(curr_folder+'/FeatureData/rapids.csv', usecols=lambda col: col.endswith('14dhist') and 'norm' in col or col=='pid' or col=='date')\n",
    "    full_feature_data = pd.concat([full_feature_data, rapids_df], ignore_index=True)\n",
    "    \n",
    "    ema_df = pd.read_csv(curr_folder+'/SurveyData/ema.csv')\n",
    "    full_ema_data = pd.concat([full_ema_data, ema_df], ignore_index=True)\n",
    "    \n",
    "    bfi_df = pd.read_csv(curr_folder+'/SurveyData/pre.csv')[['pid', 'date', \\\n",
    "                                    'BFI10_extroversion_PRE', \\\n",
    "                                    'BFI10_agreeableness_PRE', \\\n",
    "                                    'BFI10_conscientiousness_PRE', \\\n",
    "                                    'BFI10_neuroticism_PRE', \\\n",
    "                                    'BFI10_openness_PRE']]\n",
    "    full_bfi_data = pd.concat([full_bfi_data, bfi_df], ignore_index=True)\n",
    "print(len(full_feature_data))\n",
    "full_feature_data.to_csv('merged_unfiltered_feature_data.csv')\n",
    "full_ema_data.to_csv('merged_unfiltered_ema_data.csv')\n",
    "full_bfi_data.to_csv('merged_unfiltered_bfi_data.csv')"
   ]
  },
  {
   "cell_type": "code",
   "execution_count": 3,
   "metadata": {},
   "outputs": [
    {
     "name": "stdout",
     "output_type": "stream",
     "text": [
      "216\n",
      "5257\n"
     ]
    }
   ],
   "source": [
    "# merge wrt pid and date\n",
    "ema_data = pd.read_csv('merged_unfiltered_ema_data.csv')[['pid', 'date', \\\n",
    "                                    'phq4_EMA', 'phq4_anxiety_EMA', 'phq4_depression_EMA']]\n",
    "clean_ema_data = ema_data.dropna()\n",
    "bfi_data = pd.read_csv('merged_unfiltered_bfi_data.csv')[['pid', \\\n",
    "                                    'BFI10_extroversion_PRE', \\\n",
    "                                    'BFI10_agreeableness_PRE', \\\n",
    "                                    'BFI10_conscientiousness_PRE', \\\n",
    "                                    'BFI10_neuroticism_PRE', \\\n",
    "                                    'BFI10_openness_PRE']]\n",
    "clean_bfi_data = bfi_data.dropna()\n",
    "merged_data = pd.merge(full_feature_data, clean_ema_data, on=['pid', 'date'], how='inner')\n",
    "merged_data = pd.merge(merged_data, clean_bfi_data, on=['pid'], how='inner')\n",
    "print(len(merged_data.columns))\n",
    "print(len(merged_data))"
   ]
  },
  {
   "cell_type": "code",
   "execution_count": 4,
   "metadata": {},
   "outputs": [
    {
     "name": "stdout",
     "output_type": "stream",
     "text": [
      "214\n"
     ]
    }
   ],
   "source": [
    "# no longer need pid and date\n",
    "merged_data.drop(columns=['pid', 'date'], inplace=True)\n",
    "print(len(merged_data.columns))"
   ]
  },
  {
   "cell_type": "code",
   "execution_count": 5,
   "metadata": {
    "tags": []
   },
   "outputs": [
    {
     "name": "stdout",
     "output_type": "stream",
     "text": [
      "213\n"
     ]
    }
   ],
   "source": [
    "# drop string columns, can come back to this and one hot encode these but doesnt seem worth it\n",
    "for col in merged_data.columns:\n",
    "    if merged_data[col].apply(lambda x: isinstance(x, str)).any():\n",
    "        merged_data.drop(columns=col, inplace=True)\n",
    "        continue\n",
    "print(len(merged_data.columns))"
   ]
  },
  {
   "cell_type": "code",
   "execution_count": 6,
   "metadata": {},
   "outputs": [],
   "source": [
    "# impute wrt nn for NaN data\n",
    "numeric_data = merged_data.select_dtypes(include=['number'])\n",
    "imputer = KNNImputer(n_neighbors=1)\n",
    "imputed_data = imputer.fit_transform(merged_data)\n",
    "merged_data[numeric_data.columns] = imputed_data"
   ]
  },
  {
   "cell_type": "code",
   "execution_count": 7,
   "metadata": {},
   "outputs": [],
   "source": [
    "# normalize bfi data\n",
    "columns_to_normalize = [\n",
    "    'BFI10_extroversion_PRE', \n",
    "    'BFI10_agreeableness_PRE', \n",
    "    'BFI10_conscientiousness_PRE', \n",
    "    'BFI10_neuroticism_PRE', \n",
    "    'BFI10_openness_PRE'\n",
    "]\n",
    "scaler = MinMaxScaler()\n",
    "merged_data[columns_to_normalize] = scaler.fit_transform(merged_data[columns_to_normalize])"
   ]
  },
  {
   "cell_type": "code",
   "execution_count": 8,
   "metadata": {},
   "outputs": [
    {
     "data": {
      "text/plain": [
       "np.False_"
      ]
     },
     "execution_count": 8,
     "metadata": {},
     "output_type": "execute_result"
    }
   ],
   "source": [
    "# make sure no na at this point\n",
    "merged_data.isna().any().any()"
   ]
  },
  {
   "cell_type": "code",
   "execution_count": 9,
   "metadata": {},
   "outputs": [],
   "source": [
    "merged_data.to_csv('merged_knn_imputed_filtered_data_phq.csv')"
   ]
  },
  {
   "cell_type": "code",
   "execution_count": 10,
   "metadata": {},
   "outputs": [],
   "source": [
    "# split into our feature and target variables\n",
    "phq = merged_data['phq4_EMA']\n",
    "anx_phq = merged_data['phq4_anxiety_EMA']\n",
    "dep_phq = merged_data['phq4_depression_EMA']\n",
    "merged_data = merged_data.drop(columns=['phq4_EMA', 'phq4_anxiety_EMA', 'phq4_depression_EMA'])\n",
    "merged_data_no_bfi = merged_data.drop(columns=['BFI10_extroversion_PRE', 'BFI10_agreeableness_PRE', 'BFI10_conscientiousness_PRE', 'BFI10_neuroticism_PRE', 'BFI10_openness_PRE'])"
   ]
  },
  {
   "cell_type": "code",
   "execution_count": 11,
   "metadata": {},
   "outputs": [],
   "source": [
    "# get statisticallt relevant for phq no bfi and w/bfi\n",
    "gamma_model = sm.GLM(phq, merged_data)\n",
    "gamma_results = gamma_model.fit()\n",
    "p_values = gamma_results.pvalues\n",
    "significant_columns = p_values[p_values < 0.5].index\n",
    "new_merged_data_phq = merged_data[significant_columns]\n",
    "\n",
    "gamma_model = sm.GLM(phq, merged_data_no_bfi)\n",
    "gamma_results = gamma_model.fit()\n",
    "p_values = gamma_results.pvalues\n",
    "significant_columns = p_values[p_values < 0.5].index\n",
    "new_merged_data_no_bfi_phq = merged_data_no_bfi[significant_columns]"
   ]
  },
  {
   "cell_type": "code",
   "execution_count": 12,
   "metadata": {},
   "outputs": [
    {
     "name": "stdout",
     "output_type": "stream",
     "text": [
      "Columns only in not BFI predicting phq:\n",
      "  - f_screen:phone_screen_rapids_avgdurationunlock_locmap_exercise_norm:14dhist\n",
      "  - f_slp:fitbit_sleep_intraday_rapids_mediandurationasleepunifiedmain_norm:14dhist\n",
      "  - f_screen:phone_screen_rapids_mindurationunlock_locmap_living_norm:14dhist\n",
      "  - f_call:phone_calls_rapids_outgoing_entropyduration_norm:14dhist\n",
      "  - f_steps:fitbit_steps_summary_rapids_maxsumsteps_norm:14dhist\n",
      "  - f_loc:phone_locations_locmap_duration_in_locmap_greens_norm:14dhist\n",
      "  - f_screen:phone_screen_rapids_sumdurationunlock_norm:14dhist\n",
      "  - f_steps:fitbit_steps_intraday_rapids_mindurationactivebout_norm:14dhist\n",
      "  - f_loc:phone_locations_barnett_avgflightdur_norm:14dhist\n",
      "  - f_blue:phone_bluetooth_doryab_stdscansothers_norm:14dhist\n",
      "  - f_blue:phone_bluetooth_doryab_stdscansown_norm:14dhist\n",
      "  - f_screen:phone_screen_rapids_mindurationunlock_locmap_study_norm:14dhist\n",
      "  - f_call:phone_calls_rapids_incoming_stdduration_norm:14dhist\n",
      "  - f_slp:fitbit_sleep_intraday_rapids_mindurationasleepunifiedmain_norm:14dhist\n",
      "  - f_call:phone_calls_rapids_incoming_modeduration_norm:14dhist\n",
      "  - f_loc:phone_locations_barnett_siglocentropy_norm:14dhist\n",
      "  - f_slp:fitbit_sleep_summary_rapids_lastbedtimemain_norm:14dhist\n",
      "  - f_screen:phone_screen_rapids_countepisodeunlock_locmap_study_norm:14dhist\n",
      "  - f_blue:phone_bluetooth_doryab_countscansleastfrequentdevicewithinsegmentsown_norm:14dhist\n",
      "  - f_screen:phone_screen_rapids_maxdurationunlock_norm:14dhist\n",
      "  - f_call:phone_calls_rapids_incoming_sumduration_norm:14dhist\n",
      "  - f_slp:fitbit_sleep_summary_rapids_sumdurationawakemain_norm:14dhist\n",
      "  - f_steps:fitbit_steps_intraday_rapids_avgdurationsedentarybout_norm:14dhist\n",
      "  - f_loc:phone_locations_doryab_loglocationvariance_norm:14dhist\n",
      "  - f_call:phone_calls_rapids_incoming_minduration_norm:14dhist\n",
      "  - f_loc:phone_locations_doryab_varspeed_norm:14dhist\n",
      "  - f_screen:phone_screen_rapids_stddurationunlock_locmap_home_norm:14dhist\n",
      "  - f_slp:fitbit_sleep_summary_rapids_lastwaketimemain_norm:14dhist\n",
      "  - f_blue:phone_bluetooth_doryab_meanscansothers_norm:14dhist\n",
      "---------\n",
      "Columns only in BFI predicting phq:\n",
      "  - f_screen:phone_screen_rapids_countepisodeunlock_locmap_living_norm:14dhist\n",
      "  - f_slp:fitbit_sleep_intraday_rapids_maxdurationawakeunifiedmain_norm:14dhist\n",
      "  - f_loc:phone_locations_doryab_outlierstimepercent_norm:14dhist\n",
      "  - BFI10_extroversion_PRE\n",
      "  - f_slp:fitbit_sleep_summary_rapids_avgdurationawakemain_norm:14dhist\n",
      "  - f_slp:fitbit_sleep_intraday_rapids_sumdurationawakeunifiedmain_norm:14dhist\n",
      "  - f_slp:fitbit_sleep_summary_rapids_sumdurationasleepmain_norm:14dhist\n",
      "  - f_slp:fitbit_sleep_intraday_rapids_mediandurationawakeunifiedmain_norm:14dhist\n",
      "  - f_blue:phone_bluetooth_doryab_stdscansall_norm:14dhist\n",
      "  - f_call:phone_calls_rapids_outgoing_meanduration_norm:14dhist\n",
      "  - BFI10_neuroticism_PRE\n",
      "  - BFI10_agreeableness_PRE\n",
      "  - f_loc:phone_locations_barnett_hometime_norm:14dhist\n",
      "  - f_call:phone_calls_rapids_missed_countmostfrequentcontact_norm:14dhist\n",
      "  - f_loc:phone_locations_locmap_percent_in_locmap_study_norm:14dhist\n",
      "  - f_screen:phone_screen_rapids_firstuseafter00unlock_norm:14dhist\n",
      "  - f_call:phone_calls_rapids_incoming_countmostfrequentcontact_norm:14dhist\n",
      "  - f_steps:fitbit_steps_intraday_rapids_stdsteps_norm:14dhist\n",
      "  - f_call:phone_calls_rapids_incoming_meanduration_norm:14dhist\n",
      "  - f_call:phone_calls_rapids_missed_timefirstcall_norm:14dhist\n",
      "  - f_slp:fitbit_sleep_summary_rapids_avgdurationasleepmain_norm:14dhist\n",
      "  - f_slp:fitbit_sleep_intraday_rapids_stddurationasleepunifiedmain_norm:14dhist\n",
      "  - f_loc:phone_locations_barnett_disttravelled_norm:14dhist\n",
      "  - f_screen:phone_screen_rapids_sumdurationunlock_locmap_home_norm:14dhist\n",
      "  - BFI10_conscientiousness_PRE\n",
      "  - f_screen:phone_screen_rapids_maxdurationunlock_locmap_greens_norm:14dhist\n",
      "  - f_screen:phone_screen_rapids_maxdurationunlock_locmap_home_norm:14dhist\n",
      "  - f_blue:phone_bluetooth_doryab_countscansleastfrequentdeviceacrosssegmentsown_norm:14dhist\n",
      "  - f_slp:fitbit_sleep_summary_rapids_sumdurationinbedmain_norm:14dhist\n",
      "  - BFI10_openness_PRE\n"
     ]
    }
   ],
   "source": [
    "# get columns in one but not the other\n",
    "columns_in_df1_not_in_df2 = set(new_merged_data_no_bfi_phq.columns) - set(new_merged_data_phq.columns)\n",
    "\n",
    "columns_in_df2_not_in_df1 = set(new_merged_data_phq.columns) - set(new_merged_data_no_bfi_phq.columns)\n",
    "\n",
    "print(\"Columns only in not BFI predicting phq:\")\n",
    "for col in columns_in_df1_not_in_df2:\n",
    "    print(f\"  - {col}\")\n",
    "\n",
    "print('---------')\n",
    "print(\"Columns only in BFI predicting phq:\")\n",
    "for col in columns_in_df2_not_in_df1:\n",
    "    print(f\"  - {col}\")"
   ]
  },
  {
   "cell_type": "code",
   "execution_count": 13,
   "metadata": {},
   "outputs": [],
   "source": [
    "# get statisticallt relevant for anxiety phq no bfi and w/bfi\n",
    "gamma_model = sm.GLM(anx_phq, merged_data)\n",
    "gamma_results = gamma_model.fit()\n",
    "p_values = gamma_results.pvalues\n",
    "significant_columns = p_values[p_values < 0.5].index\n",
    "new_merged_data_anx_phq = merged_data[significant_columns]\n",
    "\n",
    "gamma_model = sm.GLM(anx_phq, merged_data_no_bfi)\n",
    "gamma_results = gamma_model.fit()\n",
    "p_values = gamma_results.pvalues\n",
    "significant_columns = p_values[p_values < 0.5].index\n",
    "new_merged_data_no_bfi_anx_phq = merged_data_no_bfi[significant_columns]"
   ]
  },
  {
   "cell_type": "code",
   "execution_count": 14,
   "metadata": {},
   "outputs": [
    {
     "name": "stdout",
     "output_type": "stream",
     "text": [
      "Columns only in not BFI predicting anxiety phq:\n",
      "  - f_slp:fitbit_sleep_intraday_rapids_sumdurationasleepunifiedmain_norm:14dhist\n",
      "  - f_loc:phone_locations_barnett_avgflightlen_norm:14dhist\n",
      "  - f_loc:phone_locations_barnett_wkenddayrtn_norm:14dhist\n",
      "  - f_blue:phone_bluetooth_doryab_uniquedevicesown_norm:14dhist\n",
      "  - f_screen:phone_screen_rapids_mindurationunlock_locmap_living_norm:14dhist\n",
      "  - f_loc:phone_locations_doryab_avglengthstayatclusters_norm:14dhist\n",
      "  - f_steps:fitbit_steps_intraday_rapids_sumsteps_norm:14dhist\n",
      "  - f_call:phone_calls_rapids_outgoing_entropyduration_norm:14dhist\n",
      "  - f_loc:phone_locations_locmap_duration_in_locmap_greens_norm:14dhist\n",
      "  - f_screen:phone_screen_rapids_sumdurationunlock_norm:14dhist\n",
      "  - f_steps:fitbit_steps_intraday_rapids_mindurationactivebout_norm:14dhist\n",
      "  - f_loc:phone_locations_barnett_avgflightdur_norm:14dhist\n",
      "  - f_call:phone_calls_rapids_incoming_count_norm:14dhist\n",
      "  - f_blue:phone_bluetooth_doryab_stdscansown_norm:14dhist\n",
      "  - f_blue:phone_bluetooth_doryab_countscansmostfrequentdeviceacrosssegmentsown_norm:14dhist\n",
      "  - f_call:phone_calls_rapids_incoming_stdduration_norm:14dhist\n",
      "  - f_call:phone_calls_rapids_outgoing_minduration_norm:14dhist\n",
      "  - f_loc:phone_locations_barnett_siglocentropy_norm:14dhist\n",
      "  - f_loc:phone_locations_barnett_stdflightdur_norm:14dhist\n",
      "  - f_blue:phone_bluetooth_doryab_countscansleastfrequentdevicewithinsegmentsown_norm:14dhist\n",
      "  - f_slp:fitbit_sleep_intraday_rapids_stddurationawakeunifiedmain_norm:14dhist\n",
      "  - f_screen:phone_screen_rapids_maxdurationunlock_norm:14dhist\n",
      "  - f_screen:phone_screen_rapids_avgdurationunlock_norm:14dhist\n",
      "  - f_slp:fitbit_sleep_intraday_rapids_ratiodurationasleepunifiedwithinmain_norm:14dhist\n",
      "  - f_screen:phone_screen_rapids_stddurationunlock_locmap_greens_norm:14dhist\n",
      "  - f_slp:fitbit_sleep_intraday_rapids_stddurationasleepunifiedmain_norm:14dhist\n",
      "  - f_loc:phone_locations_barnett_stdflightlen_norm:14dhist\n",
      "  - f_steps:fitbit_steps_intraday_rapids_avgdurationsedentarybout_norm:14dhist\n",
      "  - f_screen:phone_screen_rapids_maxdurationunlock_locmap_greens_norm:14dhist\n",
      "  - f_loc:phone_locations_doryab_loglocationvariance_norm:14dhist\n",
      "  - f_loc:phone_locations_doryab_movingtostaticratio_norm:14dhist\n",
      "  - f_slp:fitbit_sleep_intraday_rapids_ratiodurationawakeunifiedwithinmain_norm:14dhist\n",
      "  - f_screen:phone_screen_rapids_stddurationunlock_locmap_home_norm:14dhist\n",
      "  - f_steps:fitbit_steps_intraday_rapids_maxdurationactivebout_norm:14dhist\n",
      "---------\n",
      "Columns only in BFI predicting anxiety phq:\n",
      "  - f_screen:phone_screen_rapids_countepisodeunlock_locmap_living_norm:14dhist\n",
      "  - f_slp:fitbit_sleep_intraday_rapids_maxdurationawakeunifiedmain_norm:14dhist\n",
      "  - BFI10_extroversion_PRE\n",
      "  - f_screen:phone_screen_rapids_stddurationunlock_locmap_living_norm:14dhist\n",
      "  - f_slp:fitbit_sleep_intraday_rapids_mediandurationawakeunifiedmain_norm:14dhist\n",
      "  - f_loc:phone_locations_barnett_probpause_norm:14dhist\n",
      "  - f_steps:fitbit_steps_intraday_rapids_sumdurationactivebout_norm:14dhist\n",
      "  - f_blue:phone_bluetooth_doryab_stdscansall_norm:14dhist\n",
      "  - f_loc:phone_locations_locmap_duration_in_locmap_exercise_norm:14dhist\n",
      "  - f_slp:fitbit_sleep_intraday_rapids_countepisodeawakeunifiedmain_norm:14dhist\n",
      "  - BFI10_neuroticism_PRE\n",
      "  - BFI10_agreeableness_PRE\n",
      "  - f_loc:phone_locations_barnett_hometime_norm:14dhist\n",
      "  - f_loc:phone_locations_doryab_numberlocationtransitions_norm:14dhist\n",
      "  - f_call:phone_calls_rapids_missed_countmostfrequentcontact_norm:14dhist\n",
      "  - f_loc:phone_locations_locmap_percent_in_locmap_study_norm:14dhist\n",
      "  - f_screen:phone_screen_rapids_firstuseafter00unlock_norm:14dhist\n",
      "  - f_call:phone_calls_rapids_incoming_countmostfrequentcontact_norm:14dhist\n",
      "  - f_call:phone_calls_rapids_incoming_meanduration_norm:14dhist\n",
      "  - f_call:phone_calls_rapids_missed_timefirstcall_norm:14dhist\n",
      "  - f_wifi:phone_wifi_connected_rapids_countscans_norm:14dhist\n",
      "  - f_slp:fitbit_sleep_summary_rapids_avgdurationasleepmain_norm:14dhist\n",
      "  - f_screen:phone_screen_rapids_sumdurationunlock_locmap_home_norm:14dhist\n",
      "  - BFI10_conscientiousness_PRE\n",
      "  - f_screen:phone_screen_rapids_maxdurationunlock_locmap_home_norm:14dhist\n",
      "  - f_slp:fitbit_sleep_intraday_rapids_avgdurationasleepunifiedmain_norm:14dhist\n",
      "  - f_blue:phone_bluetooth_doryab_countscansleastfrequentdeviceacrosssegmentsown_norm:14dhist\n",
      "  - f_loc:phone_locations_doryab_maxlengthstayatclusters_norm:14dhist\n",
      "  - f_slp:fitbit_sleep_summary_rapids_lastwaketimemain_norm:14dhist\n",
      "  - f_screen:phone_screen_rapids_countepisodeunlock_locmap_study_norm:14dhist\n",
      "  - BFI10_openness_PRE\n"
     ]
    }
   ],
   "source": [
    "# get columns in one but not the other\n",
    "columns_in_df1_not_in_df2 = set(new_merged_data_no_bfi_anx_phq.columns) - set(new_merged_data_anx_phq.columns)\n",
    "\n",
    "columns_in_df2_not_in_df1 = set(new_merged_data_anx_phq.columns) - set(new_merged_data_no_bfi_anx_phq.columns)\n",
    "\n",
    "print(\"Columns only in not BFI predicting anxiety phq:\")\n",
    "for col in columns_in_df1_not_in_df2:\n",
    "    print(f\"  - {col}\")\n",
    "\n",
    "print('---------')\n",
    "print(\"Columns only in BFI predicting anxiety phq:\")\n",
    "for col in columns_in_df2_not_in_df1:\n",
    "    print(f\"  - {col}\")"
   ]
  },
  {
   "cell_type": "code",
   "execution_count": 15,
   "metadata": {},
   "outputs": [],
   "source": [
    "# get statisticallt relevant for depression phq no bfi and w/bfi\n",
    "gamma_model = sm.GLM(dep_phq, merged_data)\n",
    "gamma_results = gamma_model.fit()\n",
    "p_values = gamma_results.pvalues\n",
    "significant_columns = p_values[p_values < 0.5].index\n",
    "new_merged_data_dep_phq = merged_data[significant_columns]\n",
    "\n",
    "gamma_model = sm.GLM(dep_phq, merged_data_no_bfi)\n",
    "gamma_results = gamma_model.fit()\n",
    "p_values = gamma_results.pvalues\n",
    "significant_columns = p_values[p_values < 0.5].index\n",
    "new_merged_data_no_bfi_dep_phq = merged_data_no_bfi[significant_columns]"
   ]
  },
  {
   "cell_type": "code",
   "execution_count": 16,
   "metadata": {},
   "outputs": [
    {
     "name": "stdout",
     "output_type": "stream",
     "text": [
      "Columns only in not BFI predicting depression phq:\n",
      "  - f_slp:fitbit_sleep_intraday_rapids_mediandurationasleepunifiedmain_norm:14dhist\n",
      "  - f_screen:phone_screen_rapids_mindurationunlock_locmap_living_norm:14dhist\n",
      "  - f_steps:fitbit_steps_intraday_rapids_sumsteps_norm:14dhist\n",
      "  - f_call:phone_calls_rapids_outgoing_entropyduration_norm:14dhist\n",
      "  - f_loc:phone_locations_locmap_duration_in_locmap_greens_norm:14dhist\n",
      "  - f_blue:phone_bluetooth_doryab_countscansleastfrequentdevicewithinsegmentsall_norm:14dhist\n",
      "  - f_call:phone_calls_rapids_outgoing_meanduration_norm:14dhist\n",
      "  - f_screen:phone_screen_rapids_sumdurationunlock_norm:14dhist\n",
      "  - f_loc:phone_locations_locmap_duration_in_locmap_exercise_norm:14dhist\n",
      "  - f_call:phone_calls_rapids_incoming_stdduration_norm:14dhist\n",
      "  - f_loc:phone_locations_doryab_numberlocationtransitions_norm:14dhist\n",
      "  - f_call:phone_calls_rapids_incoming_modeduration_norm:14dhist\n",
      "  - f_slp:fitbit_sleep_summary_rapids_lastbedtimemain_norm:14dhist\n",
      "  - f_screen:phone_screen_rapids_countepisodeunlock_locmap_study_norm:14dhist\n",
      "  - f_blue:phone_bluetooth_doryab_countscansleastfrequentdevicewithinsegmentsown_norm:14dhist\n",
      "  - f_wifi:phone_wifi_connected_rapids_countscans_norm:14dhist\n",
      "  - f_screen:phone_screen_rapids_maxdurationunlock_locmap_exercise_norm:14dhist\n",
      "  - f_call:phone_calls_rapids_incoming_distinctcontacts_norm:14dhist\n",
      "  - f_loc:phone_locations_doryab_loglocationvariance_norm:14dhist\n",
      "  - f_slp:fitbit_sleep_intraday_rapids_avgdurationasleepunifiedmain_norm:14dhist\n",
      "  - f_call:phone_calls_rapids_incoming_minduration_norm:14dhist\n",
      "  - f_loc:phone_locations_doryab_varspeed_norm:14dhist\n",
      "  - f_blue:phone_bluetooth_doryab_meanscansothers_norm:14dhist\n",
      "---------\n",
      "Columns only in BFI predicting depression phq:\n",
      "  - f_loc:phone_locations_doryab_locationvariance_norm:14dhist\n",
      "  - f_screen:phone_screen_rapids_countepisodeunlock_locmap_living_norm:14dhist\n",
      "  - f_screen:phone_screen_rapids_mindurationunlock_locmap_exercise_norm:14dhist\n",
      "  - f_wifi:phone_wifi_connected_rapids_uniquedevices_norm:14dhist\n",
      "  - BFI10_extroversion_PRE\n",
      "  - f_slp:fitbit_sleep_summary_rapids_sumdurationasleepmain_norm:14dhist\n",
      "  - f_slp:fitbit_sleep_intraday_rapids_mediandurationawakeunifiedmain_norm:14dhist\n",
      "  - BFI10_neuroticism_PRE\n",
      "  - BFI10_agreeableness_PRE\n",
      "  - f_call:phone_calls_rapids_missed_countmostfrequentcontact_norm:14dhist\n",
      "  - f_screen:phone_screen_rapids_firstuseafter00unlock_norm:14dhist\n",
      "  - f_call:phone_calls_rapids_incoming_countmostfrequentcontact_norm:14dhist\n",
      "  - f_steps:fitbit_steps_intraday_rapids_stdsteps_norm:14dhist\n",
      "  - f_call:phone_calls_rapids_incoming_meanduration_norm:14dhist\n",
      "  - f_call:phone_calls_rapids_missed_timefirstcall_norm:14dhist\n",
      "  - f_slp:fitbit_sleep_intraday_rapids_stddurationawakeunifiedmain_norm:14dhist\n",
      "  - f_screen:phone_screen_rapids_countepisodeunlock_locmap_home_norm:14dhist\n",
      "  - f_blue:phone_bluetooth_doryab_countscansmostfrequentdevicewithinsegmentsall_norm:14dhist\n",
      "  - f_slp:fitbit_sleep_summary_rapids_avgdurationasleepmain_norm:14dhist\n",
      "  - f_loc:phone_locations_barnett_disttravelled_norm:14dhist\n",
      "  - f_screen:phone_screen_rapids_avgdurationunlock_locmap_study_norm:14dhist\n",
      "  - f_screen:phone_screen_rapids_sumdurationunlock_locmap_home_norm:14dhist\n",
      "  - f_screen:phone_screen_rapids_firstuseafter00unlock_locmap_living_norm:14dhist\n",
      "  - f_call:phone_calls_rapids_outgoing_count_norm:14dhist\n",
      "  - BFI10_conscientiousness_PRE\n",
      "  - f_loc:phone_locations_doryab_movingtostaticratio_norm:14dhist\n",
      "  - BFI10_openness_PRE\n"
     ]
    }
   ],
   "source": [
    "# get columns in one but not the other\n",
    "columns_in_df1_not_in_df2 = set(new_merged_data_no_bfi_dep_phq.columns) - set(new_merged_data_dep_phq.columns)\n",
    "\n",
    "columns_in_df2_not_in_df1 = set(new_merged_data_dep_phq.columns) - set(new_merged_data_no_bfi_dep_phq.columns)\n",
    "\n",
    "print(\"Columns only in not BFI predicting depression phq:\")\n",
    "for col in columns_in_df1_not_in_df2:\n",
    "    print(f\"  - {col}\")\n",
    "\n",
    "print('---------')\n",
    "print(\"Columns only in BFI predicting depression phq:\")\n",
    "for col in columns_in_df2_not_in_df1:\n",
    "    print(f\"  - {col}\")"
   ]
  },
  {
   "cell_type": "code",
   "execution_count": 17,
   "metadata": {},
   "outputs": [],
   "source": [
    "# run a gridsearch on all variances of data + target variable combos\n",
    "mse_scorer = make_scorer(mean_squared_error, greater_is_better=False)\n",
    "kf = KFold(n_splits=5, shuffle=True, random_state=42)"
   ]
  },
  {
   "cell_type": "code",
   "execution_count": 18,
   "metadata": {},
   "outputs": [
    {
     "name": "stdout",
     "output_type": "stream",
     "text": [
      "8.084497823838712\n"
     ]
    }
   ],
   "source": [
    "# sanity check baseline\n",
    "print(mean_squared_error(np.mean(phq)*np.ones_like(phq), phq))"
   ]
  },
  {
   "cell_type": "code",
   "execution_count": 19,
   "metadata": {},
   "outputs": [
    {
     "name": "stdout",
     "output_type": "stream",
     "text": [
      "Fitting 5 folds for each of 360 candidates, totalling 1800 fits\n",
      "Best parameters: {'max_depth': None, 'min_samples_leaf': 1, 'min_samples_split': 2, 'n_estimators': 35}\n",
      "Best cross-validated score: -6.276123051567764\n",
      "Final model cross-validated scores: [-6.25303362 -6.18356037 -6.38514592 -6.2570679  -6.81847309]\n",
      "Final model mean score: -6.379456181298551\n"
     ]
    }
   ],
   "source": [
    "# no bfi phq\n",
    "rf = RandomForestRegressor()\n",
    "param_grid = {\n",
    "    'n_estimators': [5, 10, 15, 20, 25, 30, 35, 40],\n",
    "    'max_depth': [None, 5, 10, 15, 20],\n",
    "    'min_samples_split': [2, 5, 10],\n",
    "    'min_samples_leaf': [1, 2, 4]\n",
    "}\n",
    "grid_search = GridSearchCV(\n",
    "    estimator=rf,\n",
    "    param_grid=param_grid,\n",
    "    scoring=mse_scorer,\n",
    "    cv=kf,\n",
    "    verbose=1,\n",
    "    n_jobs=-1  \n",
    ")\n",
    "grid_search.fit(new_merged_data_no_bfi_phq, phq)\n",
    "print(\"Best parameters:\", grid_search.best_params_)\n",
    "print(\"Best cross-validated score:\", grid_search.best_score_)\n",
    "\n",
    "best_params = grid_search.best_params_\n",
    "final_rf_model = RandomForestRegressor(**best_params)\n",
    "final_rf_model.fit(new_merged_data_no_bfi_phq, phq)\n",
    "final_cv_scores = cross_val_score(\n",
    "    final_rf_model, \n",
    "    new_merged_data_no_bfi_phq, \n",
    "    phq, \n",
    "    cv=kf, \n",
    "    scoring=mse_scorer\n",
    ")\n",
    "\n",
    "print(\"Final model cross-validated scores:\", final_cv_scores)\n",
    "print(\"Final model mean score:\", np.mean(final_cv_scores))"
   ]
  },
  {
   "cell_type": "code",
   "execution_count": 20,
   "metadata": {},
   "outputs": [
    {
     "name": "stdout",
     "output_type": "stream",
     "text": [
      "Fitting 5 folds for each of 360 candidates, totalling 1800 fits\n",
      "Best parameters: {'max_depth': None, 'min_samples_leaf': 1, 'min_samples_split': 5, 'n_estimators': 40}\n",
      "Best cross-validated score: -5.11271437662143\n",
      "Final model cross-validated scores: [-5.2917081  -5.03182644 -5.2418707  -5.07788382 -5.34223057]\n",
      "Final model mean score: -5.197103924917796\n"
     ]
    }
   ],
   "source": [
    "# with bfi phq\n",
    "rf = RandomForestRegressor()\n",
    "param_grid = {\n",
    "    'n_estimators': [5, 10, 15, 20, 25, 30, 35, 40],\n",
    "    'max_depth': [None, 5, 10, 15, 20],\n",
    "    'min_samples_split': [2, 5, 10],\n",
    "    'min_samples_leaf': [1, 2, 4]\n",
    "}\n",
    "grid_search = GridSearchCV(\n",
    "    estimator=rf,\n",
    "    param_grid=param_grid,\n",
    "    scoring=mse_scorer,\n",
    "    cv=kf,\n",
    "    verbose=1,\n",
    "    n_jobs=-1  \n",
    ")\n",
    "grid_search.fit(new_merged_data_phq, phq)\n",
    "print(\"Best parameters:\", grid_search.best_params_)\n",
    "print(\"Best cross-validated score:\", grid_search.best_score_)\n",
    "\n",
    "best_params = grid_search.best_params_\n",
    "final_rf_model = RandomForestRegressor(**best_params)\n",
    "final_rf_model.fit(new_merged_data_phq, phq)\n",
    "final_cv_scores = cross_val_score(\n",
    "    final_rf_model, \n",
    "    new_merged_data_phq, \n",
    "    phq, \n",
    "    cv=kf, \n",
    "    scoring=mse_scorer\n",
    ")\n",
    "\n",
    "print(\"Final model cross-validated scores:\", final_cv_scores)\n",
    "print(\"Final model mean score:\", np.mean(final_cv_scores))"
   ]
  },
  {
   "cell_type": "code",
   "execution_count": 21,
   "metadata": {},
   "outputs": [
    {
     "name": "stdout",
     "output_type": "stream",
     "text": [
      "2.502264053736481\n"
     ]
    }
   ],
   "source": [
    "# sanity check baseline\n",
    "print(mean_squared_error(np.mean(anx_phq)*np.ones_like(anx_phq), anx_phq))"
   ]
  },
  {
   "cell_type": "code",
   "execution_count": 22,
   "metadata": {},
   "outputs": [
    {
     "name": "stdout",
     "output_type": "stream",
     "text": [
      "Fitting 5 folds for each of 360 candidates, totalling 1800 fits\n"
     ]
    },
    {
     "name": "stderr",
     "output_type": "stream",
     "text": [
      "/Users/aaron/Desktop/HW/MED_264/lib/python3.11/site-packages/joblib/externals/loky/process_executor.py:752: UserWarning: A worker stopped while some jobs were given to the executor. This can be caused by a too short worker timeout or by a memory leak.\n",
      "  warnings.warn(\n"
     ]
    },
    {
     "name": "stdout",
     "output_type": "stream",
     "text": [
      "Best parameters: {'max_depth': None, 'min_samples_leaf': 1, 'min_samples_split': 2, 'n_estimators': 40}\n",
      "Best cross-validated score: -1.9985427346490123\n",
      "Final model cross-validated scores: [-2.07369905 -1.90923651 -2.08576452 -1.93413617 -2.1118258 ]\n",
      "Final model mean score: -2.022932408703638\n"
     ]
    }
   ],
   "source": [
    "# no bfi anxiety phq\n",
    "rf = RandomForestRegressor()\n",
    "param_grid = {\n",
    "    'n_estimators': [5, 10, 15, 20, 25, 30, 35, 40],\n",
    "    'max_depth': [None, 5, 10, 15, 20],\n",
    "    'min_samples_split': [2, 5, 10],\n",
    "    'min_samples_leaf': [1, 2, 4]\n",
    "}\n",
    "grid_search = GridSearchCV(\n",
    "    estimator=rf,\n",
    "    param_grid=param_grid,\n",
    "    scoring=mse_scorer,\n",
    "    cv=kf,\n",
    "    verbose=1,\n",
    "    n_jobs=-1  \n",
    ")\n",
    "grid_search.fit(new_merged_data_no_bfi_anx_phq, anx_phq)\n",
    "print(\"Best parameters:\", grid_search.best_params_)\n",
    "print(\"Best cross-validated score:\", grid_search.best_score_)\n",
    "\n",
    "best_params = grid_search.best_params_\n",
    "final_rf_model = RandomForestRegressor(**best_params)\n",
    "final_rf_model.fit(new_merged_data_no_bfi_anx_phq, anx_phq)\n",
    "final_cv_scores = cross_val_score(\n",
    "    final_rf_model, \n",
    "    new_merged_data_no_bfi_anx_phq, \n",
    "    anx_phq, \n",
    "    cv=kf, \n",
    "    scoring=mse_scorer\n",
    ")\n",
    "\n",
    "print(\"Final model cross-validated scores:\", final_cv_scores)\n",
    "print(\"Final model mean score:\", np.mean(final_cv_scores))"
   ]
  },
  {
   "cell_type": "code",
   "execution_count": 23,
   "metadata": {},
   "outputs": [
    {
     "name": "stdout",
     "output_type": "stream",
     "text": [
      "Fitting 5 folds for each of 360 candidates, totalling 1800 fits\n"
     ]
    },
    {
     "name": "stderr",
     "output_type": "stream",
     "text": [
      "/Users/aaron/Desktop/HW/MED_264/lib/python3.11/site-packages/joblib/externals/loky/process_executor.py:752: UserWarning: A worker stopped while some jobs were given to the executor. This can be caused by a too short worker timeout or by a memory leak.\n",
      "  warnings.warn(\n"
     ]
    },
    {
     "name": "stdout",
     "output_type": "stream",
     "text": [
      "Best parameters: {'max_depth': None, 'min_samples_leaf': 1, 'min_samples_split': 5, 'n_estimators': 35}\n",
      "Best cross-validated score: -1.6733670485369152\n",
      "Final model cross-validated scores: [-1.69486163 -1.5682178  -1.74492886 -1.63427173 -1.76870183]\n",
      "Final model mean score: -1.682196369304494\n"
     ]
    }
   ],
   "source": [
    "# with bfi anxiety phq\n",
    "rf = RandomForestRegressor()\n",
    "param_grid = {\n",
    "    'n_estimators': [5, 10, 15, 20, 25, 30, 35, 40],\n",
    "    'max_depth': [None, 5, 10, 15, 20],\n",
    "    'min_samples_split': [2, 5, 10],\n",
    "    'min_samples_leaf': [1, 2, 4]\n",
    "}\n",
    "grid_search = GridSearchCV(\n",
    "    estimator=rf,\n",
    "    param_grid=param_grid,\n",
    "    scoring=mse_scorer,\n",
    "    cv=kf,\n",
    "    verbose=1,\n",
    "    n_jobs=-1  \n",
    ")\n",
    "grid_search.fit(new_merged_data_anx_phq, anx_phq)\n",
    "print(\"Best parameters:\", grid_search.best_params_)\n",
    "print(\"Best cross-validated score:\", grid_search.best_score_)\n",
    "\n",
    "best_params = grid_search.best_params_\n",
    "final_rf_model = RandomForestRegressor(**best_params)\n",
    "final_rf_model.fit(new_merged_data_anx_phq, anx_phq)\n",
    "final_cv_scores = cross_val_score(\n",
    "    final_rf_model, \n",
    "    new_merged_data_anx_phq, \n",
    "    anx_phq, \n",
    "    cv=kf, \n",
    "    scoring=mse_scorer\n",
    ")\n",
    "\n",
    "print(\"Final model cross-validated scores:\", final_cv_scores)\n",
    "print(\"Final model mean score:\", np.mean(final_cv_scores))"
   ]
  },
  {
   "cell_type": "code",
   "execution_count": 24,
   "metadata": {},
   "outputs": [
    {
     "name": "stdout",
     "output_type": "stream",
     "text": [
      "2.3617106048697485\n"
     ]
    }
   ],
   "source": [
    "# sanity check baseline\n",
    "print(mean_squared_error(np.mean(dep_phq)*np.ones_like(dep_phq), dep_phq))"
   ]
  },
  {
   "cell_type": "code",
   "execution_count": 25,
   "metadata": {},
   "outputs": [
    {
     "name": "stdout",
     "output_type": "stream",
     "text": [
      "Fitting 5 folds for each of 360 candidates, totalling 1800 fits\n",
      "Best parameters: {'max_depth': None, 'min_samples_leaf': 2, 'min_samples_split': 5, 'n_estimators': 40}\n",
      "Best cross-validated score: -1.8834165151902051\n",
      "Final model cross-validated scores: [-1.89697259 -1.98133544 -1.80325088 -1.95258393 -1.87193234]\n",
      "Final model mean score: -1.9012150355003965\n"
     ]
    }
   ],
   "source": [
    "# no bfi depression phq\n",
    "rf = RandomForestRegressor()\n",
    "param_grid = {\n",
    "    'n_estimators': [5, 10, 15, 20, 25, 30, 35, 40],\n",
    "    'max_depth': [None, 5, 10, 15, 20],\n",
    "    'min_samples_split': [2, 5, 10],\n",
    "    'min_samples_leaf': [1, 2, 4]\n",
    "}\n",
    "grid_search = GridSearchCV(\n",
    "    estimator=rf,\n",
    "    param_grid=param_grid,\n",
    "    scoring=mse_scorer,\n",
    "    cv=kf,\n",
    "    verbose=1,\n",
    "    n_jobs=-1  \n",
    ")\n",
    "grid_search.fit(new_merged_data_no_bfi_dep_phq, dep_phq)\n",
    "print(\"Best parameters:\", grid_search.best_params_)\n",
    "print(\"Best cross-validated score:\", grid_search.best_score_)\n",
    "\n",
    "best_params = grid_search.best_params_\n",
    "final_rf_model = RandomForestRegressor(**best_params)\n",
    "final_rf_model.fit(new_merged_data_no_bfi_dep_phq, dep_phq)\n",
    "final_cv_scores = cross_val_score(\n",
    "    final_rf_model, \n",
    "    new_merged_data_no_bfi_dep_phq, \n",
    "    dep_phq, \n",
    "    cv=kf, \n",
    "    scoring=mse_scorer\n",
    ")\n",
    "\n",
    "print(\"Final model cross-validated scores:\", final_cv_scores)\n",
    "print(\"Final model mean score:\", np.mean(final_cv_scores))"
   ]
  },
  {
   "cell_type": "code",
   "execution_count": 26,
   "metadata": {},
   "outputs": [
    {
     "name": "stdout",
     "output_type": "stream",
     "text": [
      "Fitting 5 folds for each of 360 candidates, totalling 1800 fits\n"
     ]
    },
    {
     "name": "stderr",
     "output_type": "stream",
     "text": [
      "/Users/aaron/Desktop/HW/MED_264/lib/python3.11/site-packages/joblib/externals/loky/process_executor.py:752: UserWarning: A worker stopped while some jobs were given to the executor. This can be caused by a too short worker timeout or by a memory leak.\n",
      "  warnings.warn(\n"
     ]
    },
    {
     "name": "stdout",
     "output_type": "stream",
     "text": [
      "Best parameters: {'max_depth': None, 'min_samples_leaf': 1, 'min_samples_split': 2, 'n_estimators': 40}\n",
      "Best cross-validated score: -1.555006446985851\n",
      "Final model cross-validated scores: [-1.56840288 -1.61559722 -1.50925042 -1.55753269 -1.5697869 ]\n",
      "Final model mean score: -1.564114020500839\n"
     ]
    }
   ],
   "source": [
    "# with bfi depression phq\n",
    "rf = RandomForestRegressor()\n",
    "param_grid = {\n",
    "    'n_estimators': [5, 10, 15, 20, 25, 30, 35, 40],\n",
    "    'max_depth': [None, 5, 10, 15, 20],\n",
    "    'min_samples_split': [2, 5, 10],\n",
    "    'min_samples_leaf': [1, 2, 4]\n",
    "}\n",
    "grid_search = GridSearchCV(\n",
    "    estimator=rf,\n",
    "    param_grid=param_grid,\n",
    "    scoring=mse_scorer,\n",
    "    cv=kf,\n",
    "    verbose=1,\n",
    "    n_jobs=-1  \n",
    ")\n",
    "grid_search.fit(new_merged_data_dep_phq, dep_phq)\n",
    "print(\"Best parameters:\", grid_search.best_params_)\n",
    "print(\"Best cross-validated score:\", grid_search.best_score_)\n",
    "\n",
    "best_params = grid_search.best_params_\n",
    "final_rf_model = RandomForestRegressor(**best_params)\n",
    "final_rf_model.fit(new_merged_data_dep_phq, dep_phq)\n",
    "final_cv_scores = cross_val_score(\n",
    "    final_rf_model, \n",
    "    new_merged_data_dep_phq, \n",
    "    dep_phq, \n",
    "    cv=kf, \n",
    "    scoring=mse_scorer\n",
    ")\n",
    "\n",
    "print(\"Final model cross-validated scores:\", final_cv_scores)\n",
    "print(\"Final model mean score:\", np.mean(final_cv_scores))"
   ]
  }
 ],
 "metadata": {
  "colab": {
   "provenance": []
  },
  "kernelspec": {
   "display_name": "med_264",
   "language": "python",
   "name": "med_264"
  },
  "language_info": {
   "codemirror_mode": {
    "name": "ipython",
    "version": 3
   },
   "file_extension": ".py",
   "mimetype": "text/x-python",
   "name": "python",
   "nbconvert_exporter": "python",
   "pygments_lexer": "ipython3",
   "version": "3.11.7"
  }
 },
 "nbformat": 4,
 "nbformat_minor": 4
}
