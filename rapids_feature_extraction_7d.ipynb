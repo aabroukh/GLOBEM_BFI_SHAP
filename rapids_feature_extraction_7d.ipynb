{
 "cells": [
  {
   "cell_type": "code",
   "execution_count": 1,
   "metadata": {
    "colab": {
     "base_uri": "https://localhost:8080/"
    },
    "id": "GmY793e9msxl",
    "outputId": "5213c117-93bb-429c-ec6f-a4be330599ef",
    "tags": []
   },
   "outputs": [
    {
     "name": "stderr",
     "output_type": "stream",
     "text": [
      "/Users/aaron/Desktop/HW/MED_264/lib/python3.11/site-packages/tqdm/auto.py:21: TqdmWarning: IProgress not found. Please update jupyter and ipywidgets. See https://ipywidgets.readthedocs.io/en/stable/user_install.html\n",
      "  from .autonotebook import tqdm as notebook_tqdm\n"
     ]
    }
   ],
   "source": [
    "import os\n",
    "import shap\n",
    "\n",
    "import pandas as pd\n",
    "import numpy as np\n",
    "import matplotlib.pyplot as plt\n",
    "import statsmodels.api as sm\n",
    "\n",
    "from sklearn.impute import KNNImputer\n",
    "from sklearn.model_selection import GridSearchCV, cross_val_score, KFold\n",
    "from sklearn.metrics import make_scorer, mean_squared_error\n",
    "from sklearn.neural_network import MLPRegressor\n",
    "from sklearn.preprocessing import MinMaxScaler\n",
    "from sklearn.ensemble import RandomForestRegressor"
   ]
  },
  {
   "cell_type": "code",
   "execution_count": 2,
   "metadata": {},
   "outputs": [
    {
     "name": "stdout",
     "output_type": "stream",
     "text": [
      "55342\n"
     ]
    }
   ],
   "source": [
    "# get data from all 3 datasets\n",
    "full_feature_data = pd.DataFrame()\n",
    "full_ema_data = pd.DataFrame()\n",
    "full_bfi_data = pd.DataFrame()\n",
    "\n",
    "for i in range(2, 5):\n",
    "    curr_folder = './data/globem/INS-W_'+str(i)\n",
    "    rapids_df = pd.read_csv(curr_folder+'/FeatureData/rapids.csv', usecols=lambda col: col.endswith('7dhist') and 'norm' in col or col=='pid' or col=='date')\n",
    "    full_feature_data = pd.concat([full_feature_data, rapids_df], ignore_index=True)\n",
    "    \n",
    "    ema_df = pd.read_csv(curr_folder+'/SurveyData/ema.csv')\n",
    "    full_ema_data = pd.concat([full_ema_data, ema_df], ignore_index=True)\n",
    "    \n",
    "    bfi_df = pd.read_csv(curr_folder+'/SurveyData/pre.csv')[['pid', 'date', \\\n",
    "                                    'BFI10_extroversion_PRE', \\\n",
    "                                    'BFI10_agreeableness_PRE', \\\n",
    "                                    'BFI10_conscientiousness_PRE', \\\n",
    "                                    'BFI10_neuroticism_PRE', \\\n",
    "                                    'BFI10_openness_PRE']]\n",
    "    full_bfi_data = pd.concat([full_bfi_data, bfi_df], ignore_index=True)\n",
    "print(len(full_feature_data))\n",
    "full_feature_data.to_csv('merged_unfiltered_feature_data.csv')\n",
    "full_ema_data.to_csv('merged_unfiltered_ema_data.csv')\n",
    "full_bfi_data.to_csv('merged_unfiltered_bfi_data.csv')"
   ]
  },
  {
   "cell_type": "code",
   "execution_count": 3,
   "metadata": {},
   "outputs": [
    {
     "name": "stdout",
     "output_type": "stream",
     "text": [
      "215\n",
      "10618\n"
     ]
    }
   ],
   "source": [
    "# merge wrt pid and date\n",
    "ema_data = pd.read_csv('merged_unfiltered_ema_data.csv')[['pid', 'date', \\\n",
    "                                    'positive_affect_EMA', \\\n",
    "                                    'negative_affect_EMA']]\n",
    "clean_ema_data = ema_data.dropna()\n",
    "bfi_data = pd.read_csv('merged_unfiltered_bfi_data.csv')[['pid', \\\n",
    "                                    'BFI10_extroversion_PRE', \\\n",
    "                                    'BFI10_agreeableness_PRE', \\\n",
    "                                    'BFI10_conscientiousness_PRE', \\\n",
    "                                    'BFI10_neuroticism_PRE', \\\n",
    "                                    'BFI10_openness_PRE']]\n",
    "clean_bfi_data = bfi_data.dropna()\n",
    "merged_data = pd.merge(full_feature_data, clean_ema_data, on=['pid', 'date'], how='inner')\n",
    "merged_data = pd.merge(merged_data, clean_bfi_data, on=['pid'], how='inner')\n",
    "print(len(merged_data.columns))\n",
    "print(len(merged_data))"
   ]
  },
  {
   "cell_type": "code",
   "execution_count": 4,
   "metadata": {},
   "outputs": [
    {
     "name": "stdout",
     "output_type": "stream",
     "text": [
      "213\n"
     ]
    }
   ],
   "source": [
    "# no longer need pid and date\n",
    "merged_data.drop(columns=['pid', 'date'], inplace=True)\n",
    "print(len(merged_data.columns))"
   ]
  },
  {
   "cell_type": "code",
   "execution_count": 5,
   "metadata": {
    "tags": []
   },
   "outputs": [
    {
     "name": "stdout",
     "output_type": "stream",
     "text": [
      "212\n"
     ]
    }
   ],
   "source": [
    "# drop string columns, can come back to this and one hot encode these but doesnt seem worth it\n",
    "for col in merged_data.columns:\n",
    "    if merged_data[col].apply(lambda x: isinstance(x, str)).any():\n",
    "        merged_data.drop(columns=col, inplace=True)\n",
    "        continue\n",
    "print(len(merged_data.columns))"
   ]
  },
  {
   "cell_type": "code",
   "execution_count": 6,
   "metadata": {},
   "outputs": [],
   "source": [
    "# impute wrt nn for NaN data\n",
    "numeric_data = merged_data.select_dtypes(include=['number'])\n",
    "imputer = KNNImputer(n_neighbors=1)\n",
    "imputed_data = imputer.fit_transform(merged_data)\n",
    "merged_data[numeric_data.columns] = imputed_data"
   ]
  },
  {
   "cell_type": "code",
   "execution_count": 7,
   "metadata": {},
   "outputs": [],
   "source": [
    "# normalize bfi data\n",
    "columns_to_normalize = [\n",
    "    'BFI10_extroversion_PRE', \n",
    "    'BFI10_agreeableness_PRE', \n",
    "    'BFI10_conscientiousness_PRE', \n",
    "    'BFI10_neuroticism_PRE', \n",
    "    'BFI10_openness_PRE'\n",
    "]\n",
    "scaler = MinMaxScaler()\n",
    "merged_data[columns_to_normalize] = scaler.fit_transform(merged_data[columns_to_normalize])"
   ]
  },
  {
   "cell_type": "code",
   "execution_count": 8,
   "metadata": {},
   "outputs": [
    {
     "data": {
      "text/plain": [
       "np.False_"
      ]
     },
     "execution_count": 8,
     "metadata": {},
     "output_type": "execute_result"
    }
   ],
   "source": [
    "# make sure no na at this point\n",
    "merged_data.isna().any().any()"
   ]
  },
  {
   "cell_type": "code",
   "execution_count": 9,
   "metadata": {},
   "outputs": [],
   "source": [
    "merged_data.to_csv('merged_knn_imputed_filtered_data_panas.csv')"
   ]
  },
  {
   "cell_type": "code",
   "execution_count": 10,
   "metadata": {},
   "outputs": [],
   "source": [
    "# split into our feature and target variables\n",
    "pos_y = merged_data['positive_affect_EMA']\n",
    "neg_y = merged_data['negative_affect_EMA']\n",
    "merged_data = merged_data.drop(columns=['positive_affect_EMA', 'negative_affect_EMA'])\n",
    "merged_data_no_bfi = merged_data.drop(columns=['BFI10_extroversion_PRE', 'BFI10_agreeableness_PRE', 'BFI10_conscientiousness_PRE', 'BFI10_neuroticism_PRE', 'BFI10_openness_PRE'])"
   ]
  },
  {
   "cell_type": "code",
   "execution_count": 22,
   "metadata": {},
   "outputs": [
    {
     "name": "stdout",
     "output_type": "stream",
     "text": [
      "Index(['f_loc:phone_locations_doryab_normalizedlocationentropy:7dhist',\n",
      "       'f_slp:fitbit_sleep_summary_rapids_sumdurationasleepmain_norm:7dhist',\n",
      "       'f_slp:fitbit_sleep_summary_rapids_sumdurationawakemain_norm:7dhist',\n",
      "       'f_slp:fitbit_sleep_summary_rapids_sumdurationinbedmain_norm:7dhist',\n",
      "       'f_slp:fitbit_sleep_summary_rapids_avgdurationawakemain_norm:7dhist',\n",
      "       'f_slp:fitbit_sleep_summary_rapids_countepisodemain_norm:7dhist',\n",
      "       'f_slp:fitbit_sleep_summary_rapids_lastbedtimemain_norm:7dhist',\n",
      "       'f_slp:fitbit_sleep_intraday_rapids_maxdurationawakeunifiedmain_norm:7dhist',\n",
      "       'f_slp:fitbit_sleep_intraday_rapids_sumdurationasleepunifiedmain_norm:7dhist',\n",
      "       'f_slp:fitbit_sleep_intraday_rapids_countepisodeawakeunifiedmain_norm:7dhist',\n",
      "       'f_slp:fitbit_sleep_intraday_rapids_ratiocountasleepunifiedwithinmain_norm:7dhist',\n",
      "       'f_slp:fitbit_sleep_intraday_rapids_ratiocountawakeunifiedwithinmain_norm:7dhist',\n",
      "       'f_call:phone_calls_rapids_incoming_count_norm:7dhist',\n",
      "       'f_call:phone_calls_rapids_incoming_distinctcontacts_norm:7dhist',\n",
      "       'f_call:phone_calls_rapids_incoming_minduration_norm:7dhist',\n",
      "       'f_call:phone_calls_rapids_incoming_timefirstcall_norm:7dhist',\n",
      "       'f_call:phone_calls_rapids_outgoing_sumduration_norm:7dhist',\n",
      "       'f_call:phone_calls_rapids_outgoing_minduration_norm:7dhist',\n",
      "       'f_call:phone_calls_rapids_outgoing_stdduration_norm:7dhist',\n",
      "       'f_call:phone_calls_rapids_outgoing_modeduration_norm:7dhist',\n",
      "       'f_call:phone_calls_rapids_outgoing_timelastcall_norm:7dhist',\n",
      "       'f_blue:phone_bluetooth_rapids_countscans_norm:7dhist',\n",
      "       'f_blue:phone_bluetooth_rapids_uniquedevices_norm:7dhist',\n",
      "       'f_blue:phone_bluetooth_doryab_countscansall_norm:7dhist',\n",
      "       'f_blue:phone_bluetooth_doryab_uniquedevicesall_norm:7dhist',\n",
      "       'f_blue:phone_bluetooth_doryab_countscansmostfrequentdeviceacrosssegmentsall_norm:7dhist',\n",
      "       'f_blue:phone_bluetooth_doryab_countscansmostfrequentdeviceacrossdatasetall_norm:7dhist',\n",
      "       'f_blue:phone_bluetooth_doryab_countscansleastfrequentdeviceacrossdatasetall_norm:7dhist',\n",
      "       'f_blue:phone_bluetooth_doryab_countscansown_norm:7dhist',\n",
      "       'f_blue:phone_bluetooth_doryab_uniquedevicesown_norm:7dhist',\n",
      "       'f_blue:phone_bluetooth_doryab_meanscansown_norm:7dhist',\n",
      "       'f_blue:phone_bluetooth_doryab_stdscansown_norm:7dhist',\n",
      "       'f_blue:phone_bluetooth_doryab_countscansmostfrequentdeviceacrosssegmentsown_norm:7dhist',\n",
      "       'f_blue:phone_bluetooth_doryab_countscansmostfrequentdeviceacrossdatasetown_norm:7dhist',\n",
      "       'f_blue:phone_bluetooth_doryab_countscansleastfrequentdeviceacrossdatasetown_norm:7dhist',\n",
      "       'f_blue:phone_bluetooth_doryab_countscansmostfrequentdeviceacrosssegmentsothers_norm:7dhist',\n",
      "       'f_blue:phone_bluetooth_doryab_countscansmostfrequentdeviceacrossdatasetothers_norm:7dhist',\n",
      "       'f_blue:phone_bluetooth_doryab_countscansleastfrequentdevicewithinsegmentsothers_norm:7dhist',\n",
      "       'f_blue:phone_bluetooth_doryab_countscansleastfrequentdeviceacrosssegmentsothers_norm:7dhist',\n",
      "       'f_blue:phone_bluetooth_doryab_countscansleastfrequentdeviceacrossdatasetothers_norm:7dhist',\n",
      "       'f_screen:phone_screen_rapids_sumdurationunlock_norm:7dhist',\n",
      "       'f_screen:phone_screen_rapids_maxdurationunlock_norm:7dhist',\n",
      "       'f_screen:phone_screen_rapids_avgdurationunlock_norm:7dhist',\n",
      "       'f_screen:phone_screen_rapids_countepisodeunlock_locmap_exercise_norm:7dhist',\n",
      "       'f_screen:phone_screen_rapids_sumdurationunlock_locmap_exercise_norm:7dhist',\n",
      "       'f_screen:phone_screen_rapids_maxdurationunlock_locmap_exercise_norm:7dhist',\n",
      "       'f_screen:phone_screen_rapids_stddurationunlock_locmap_exercise_norm:7dhist',\n",
      "       'f_screen:phone_screen_rapids_sumdurationunlock_locmap_greens_norm:7dhist',\n",
      "       'f_screen:phone_screen_rapids_mindurationunlock_locmap_greens_norm:7dhist',\n",
      "       'f_screen:phone_screen_rapids_avgdurationunlock_locmap_greens_norm:7dhist',\n",
      "       'f_screen:phone_screen_rapids_stddurationunlock_locmap_greens_norm:7dhist',\n",
      "       'f_screen:phone_screen_rapids_countepisodeunlock_locmap_living_norm:7dhist',\n",
      "       'f_screen:phone_screen_rapids_sumdurationunlock_locmap_living_norm:7dhist',\n",
      "       'f_screen:phone_screen_rapids_mindurationunlock_locmap_living_norm:7dhist',\n",
      "       'f_screen:phone_screen_rapids_stddurationunlock_locmap_living_norm:7dhist',\n",
      "       'f_screen:phone_screen_rapids_firstuseafter00unlock_locmap_living_norm:7dhist',\n",
      "       'f_screen:phone_screen_rapids_countepisodeunlock_locmap_study_norm:7dhist',\n",
      "       'f_screen:phone_screen_rapids_sumdurationunlock_locmap_study_norm:7dhist',\n",
      "       'f_screen:phone_screen_rapids_mindurationunlock_locmap_study_norm:7dhist',\n",
      "       'f_screen:phone_screen_rapids_sumdurationunlock_locmap_home_norm:7dhist',\n",
      "       'f_screen:phone_screen_rapids_firstuseafter00unlock_locmap_home_norm:7dhist',\n",
      "       'f_steps:fitbit_steps_summary_rapids_minsumsteps_norm:7dhist',\n",
      "       'f_steps:fitbit_steps_intraday_rapids_maxsteps_norm:7dhist',\n",
      "       'f_steps:fitbit_steps_intraday_rapids_minsteps_norm:7dhist',\n",
      "       'f_steps:fitbit_steps_intraday_rapids_sumdurationsedentarybout_norm:7dhist',\n",
      "       'f_steps:fitbit_steps_intraday_rapids_maxdurationsedentarybout_norm:7dhist',\n",
      "       'f_steps:fitbit_steps_intraday_rapids_avgdurationsedentarybout_norm:7dhist',\n",
      "       'f_steps:fitbit_steps_intraday_rapids_maxdurationactivebout_norm:7dhist',\n",
      "       'f_steps:fitbit_steps_intraday_rapids_avgdurationactivebout_norm:7dhist',\n",
      "       'f_loc:phone_locations_barnett_siglocentropy_norm:7dhist',\n",
      "       'f_loc:phone_locations_barnett_stdflightdur_norm:7dhist',\n",
      "       'f_loc:phone_locations_doryab_avglengthstayatclusters_norm:7dhist',\n",
      "       'f_loc:phone_locations_doryab_homelabel_norm:7dhist',\n",
      "       'f_loc:phone_locations_doryab_locationentropy_norm:7dhist',\n",
      "       'f_loc:phone_locations_doryab_loglocationvariance_norm:7dhist',\n",
      "       'f_loc:phone_locations_doryab_movingtostaticratio_norm:7dhist',\n",
      "       'f_loc:phone_locations_doryab_normalizedlocationentropy_norm:7dhist',\n",
      "       'f_loc:phone_locations_doryab_numberofsignificantplaces_norm:7dhist',\n",
      "       'f_loc:phone_locations_doryab_timeathome_norm:7dhist',\n",
      "       'f_loc:phone_locations_doryab_timeattop2location_norm:7dhist',\n",
      "       'f_loc:phone_locations_doryab_timeattop3location_norm:7dhist',\n",
      "       'f_loc:phone_locations_doryab_varspeed_norm:7dhist',\n",
      "       'f_wifi:phone_wifi_connected_rapids_countscans_norm:7dhist',\n",
      "       'f_wifi:phone_wifi_connected_rapids_uniquedevices_norm:7dhist',\n",
      "       'f_wifi:phone_wifi_connected_rapids_countscansmostuniquedevice_norm:7dhist'],\n",
      "      dtype='object')\n"
     ]
    }
   ],
   "source": [
    "# get statisticallt relevant for neg no bfi and w/bfi\n",
    "gamma_model = sm.GLM(neg_y, merged_data)\n",
    "gamma_results = gamma_model.fit()\n",
    "p_values = gamma_results.pvalues\n",
    "significant_columns = p_values[p_values < 0.05].index\n",
    "new_merged_data_neg = merged_data[significant_columns]\n",
    "print(new_merged_data_no_bfi_neg.columns)\n",
    "gamma_model = sm.GLM(neg_y, merged_data_no_bfi)\n",
    "gamma_results = gamma_model.fit()\n",
    "p_values = gamma_results.pvalues\n",
    "significant_columns = p_values[p_values < 0.05].index\n",
    "new_merged_data_no_bfi_neg = merged_data_no_bfi[significant_columns]"
   ]
  },
  {
   "cell_type": "code",
   "execution_count": 12,
   "metadata": {},
   "outputs": [
    {
     "name": "stdout",
     "output_type": "stream",
     "text": [
      "Columns only in not BFI predicting neg panas:\n",
      "  - f_screen:phone_screen_rapids_sumdurationunlock_locmap_home_norm:7dhist\n",
      "  - f_steps:fitbit_steps_summary_rapids_minsumsteps_norm:7dhist\n",
      "  - f_screen:phone_screen_rapids_sumdurationunlock_locmap_study_norm:7dhist\n",
      "  - f_loc:phone_locations_doryab_loglocationvariance_norm:7dhist\n",
      "  - f_steps:fitbit_steps_intraday_rapids_maxdurationactivebout_norm:7dhist\n",
      "  - f_steps:fitbit_steps_intraday_rapids_maxdurationsedentarybout_norm:7dhist\n",
      "  - f_blue:phone_bluetooth_doryab_countscansmostfrequentdeviceacrosssegmentsothers_norm:7dhist\n",
      "  - f_call:phone_calls_rapids_outgoing_sumduration_norm:7dhist\n",
      "  - f_loc:phone_locations_doryab_timeathome_norm:7dhist\n",
      "  - f_slp:fitbit_sleep_summary_rapids_lastbedtimemain_norm:7dhist\n",
      "  - f_loc:phone_locations_doryab_locationentropy_norm:7dhist\n",
      "  - f_loc:phone_locations_barnett_siglocentropy_norm:7dhist\n",
      "  - f_loc:phone_locations_doryab_timeattop2location_norm:7dhist\n",
      "  - f_blue:phone_bluetooth_doryab_countscansmostfrequentdeviceacrosssegmentsown_norm:7dhist\n",
      "  - f_screen:phone_screen_rapids_sumdurationunlock_norm:7dhist\n",
      "  - f_loc:phone_locations_doryab_movingtostaticratio_norm:7dhist\n",
      "  - f_call:phone_calls_rapids_outgoing_minduration_norm:7dhist\n",
      "  - f_steps:fitbit_steps_intraday_rapids_avgdurationactivebout_norm:7dhist\n",
      "  - f_steps:fitbit_steps_intraday_rapids_avgdurationsedentarybout_norm:7dhist\n",
      "  - f_call:phone_calls_rapids_incoming_minduration_norm:7dhist\n",
      "  - f_slp:fitbit_sleep_summary_rapids_sumdurationasleepmain_norm:7dhist\n",
      "  - f_wifi:phone_wifi_connected_rapids_countscans_norm:7dhist\n",
      "  - f_screen:phone_screen_rapids_stddurationunlock_locmap_exercise_norm:7dhist\n",
      "  - f_slp:fitbit_sleep_intraday_rapids_sumdurationasleepunifiedmain_norm:7dhist\n",
      "  - f_blue:phone_bluetooth_doryab_countscansown_norm:7dhist\n",
      "  - f_screen:phone_screen_rapids_mindurationunlock_locmap_living_norm:7dhist\n",
      "  - f_call:phone_calls_rapids_outgoing_stdduration_norm:7dhist\n",
      "  - f_screen:phone_screen_rapids_maxdurationunlock_norm:7dhist\n",
      "  - f_slp:fitbit_sleep_summary_rapids_sumdurationinbedmain_norm:7dhist\n",
      "  - f_loc:phone_locations_doryab_varspeed_norm:7dhist\n",
      "  - f_screen:phone_screen_rapids_stddurationunlock_locmap_greens_norm:7dhist\n",
      "  - f_blue:phone_bluetooth_doryab_countscansleastfrequentdeviceacrosssegmentsothers_norm:7dhist\n",
      "  - f_screen:phone_screen_rapids_mindurationunlock_locmap_greens_norm:7dhist\n",
      "  - f_slp:fitbit_sleep_intraday_rapids_maxdurationawakeunifiedmain_norm:7dhist\n",
      "  - f_slp:fitbit_sleep_summary_rapids_countepisodemain_norm:7dhist\n",
      "  - f_blue:phone_bluetooth_doryab_meanscansown_norm:7dhist\n",
      "---------\n",
      "Columns only in BFI predicting neg panas:\n",
      "  - f_slp:fitbit_sleep_summary_rapids_sumdurationafterwakeupmain_norm:7dhist\n",
      "  - f_blue:phone_bluetooth_doryab_stdscansall_norm:7dhist\n",
      "  - f_call:phone_calls_rapids_incoming_stdduration_norm:7dhist\n",
      "  - BFI10_agreeableness_PRE\n",
      "  - f_call:phone_calls_rapids_outgoing_countmostfrequentcontact_norm:7dhist\n",
      "  - f_screen:phone_screen_rapids_mindurationunlock_locmap_exercise_norm:7dhist\n",
      "  - f_call:phone_calls_rapids_incoming_meanduration_norm:7dhist\n",
      "  - f_slp:fitbit_sleep_summary_rapids_avgdurationafterwakeupmain_norm:7dhist\n",
      "  - BFI10_openness_PRE\n",
      "  - f_steps:fitbit_steps_summary_rapids_avgsumsteps_norm:7dhist\n",
      "  - f_steps:fitbit_steps_intraday_rapids_avgsteps_norm:7dhist\n",
      "  - BFI10_neuroticism_PRE\n",
      "  - f_slp:fitbit_sleep_intraday_rapids_sumdurationawakeunifiedmain_norm:7dhist\n",
      "  - BFI10_extroversion_PRE\n",
      "  - f_slp:fitbit_sleep_intraday_rapids_countepisodeasleepunifiedmain_norm:7dhist\n",
      "  - f_call:phone_calls_rapids_missed_timefirstcall_norm:7dhist\n",
      "  - f_blue:phone_bluetooth_rapids_countscansmostuniquedevice_norm:7dhist\n"
     ]
    }
   ],
   "source": [
    "# get columns in one but not the other\n",
    "columns_in_df1_not_in_df2 = set(new_merged_data_no_bfi_neg.columns) - set(new_merged_data_neg.columns)\n",
    "\n",
    "columns_in_df2_not_in_df1 = set(new_merged_data_neg.columns) - set(new_merged_data_no_bfi_neg.columns)\n",
    "\n",
    "print(\"Columns only in not BFI predicting neg panas:\")\n",
    "for col in columns_in_df1_not_in_df2:\n",
    "    print(f\"  - {col}\")\n",
    "\n",
    "print('---------')\n",
    "print(\"Columns only in BFI predicting neg panas:\")\n",
    "for col in columns_in_df2_not_in_df1:\n",
    "    print(f\"  - {col}\")"
   ]
  },
  {
   "cell_type": "code",
   "execution_count": 13,
   "metadata": {},
   "outputs": [],
   "source": [
    "# get statisticallt relevant for pos no bfi and w/bfi\n",
    "gamma_model = sm.GLM(pos_y, merged_data)\n",
    "gamma_results = gamma_model.fit()\n",
    "p_values = gamma_results.pvalues\n",
    "significant_columns = p_values[p_values < 0.05].index\n",
    "new_merged_data_pos = merged_data[significant_columns]\n",
    "\n",
    "gamma_model = sm.GLM(pos_y, merged_data_no_bfi)\n",
    "gamma_results = gamma_model.fit()\n",
    "p_values = gamma_results.pvalues\n",
    "significant_columns = p_values[p_values < 0.05].index\n",
    "new_merged_data_no_bfi_pos = merged_data_no_bfi[significant_columns]"
   ]
  },
  {
   "cell_type": "code",
   "execution_count": 14,
   "metadata": {},
   "outputs": [
    {
     "name": "stdout",
     "output_type": "stream",
     "text": [
      "Columns only in not BFI predicting pos panas:\n",
      "  - f_loc:phone_locations_doryab_homelabel_norm:7dhist\n",
      "  - f_loc:phone_locations_doryab_numberofsignificantplaces_norm:7dhist\n",
      "  - f_call:phone_calls_rapids_outgoing_modeduration_norm:7dhist\n",
      "  - f_call:phone_calls_rapids_outgoing_meanduration_norm:7dhist\n",
      "  - f_loc:phone_locations_doryab_avglengthstayatclusters_norm:7dhist\n",
      "  - f_screen:phone_screen_rapids_mindurationunlock_locmap_study_norm:7dhist\n",
      "  - f_blue:phone_bluetooth_doryab_countscansleastfrequentdeviceacrossdatasetall_norm:7dhist\n",
      "  - f_slp:fitbit_sleep_summary_rapids_sumdurationawakemain_norm:7dhist\n",
      "  - f_blue:phone_bluetooth_doryab_countscansmostfrequentdeviceacrosssegmentsothers_norm:7dhist\n",
      "  - f_loc:phone_locations_barnett_maxdiam_norm:7dhist\n",
      "  - f_wifi:phone_wifi_connected_rapids_countscansmostuniquedevice_norm:7dhist\n",
      "  - f_loc:phone_locations_barnett_rog_norm:7dhist\n",
      "  - f_slp:fitbit_sleep_summary_rapids_lastbedtimemain_norm:7dhist\n",
      "  - f_loc:phone_locations_doryab_avgspeed_norm:7dhist\n",
      "  - f_slp:fitbit_sleep_intraday_rapids_countepisodeawakeunifiedmain_norm:7dhist\n",
      "  - f_call:phone_calls_rapids_incoming_stdduration_norm:7dhist\n",
      "  - f_blue:phone_bluetooth_doryab_countscansmostfrequentdeviceacrossdatasetown_norm:7dhist\n",
      "  - f_loc:phone_locations_doryab_timeattop3location_norm:7dhist\n",
      "  - f_loc:phone_locations_doryab_locationentropy_norm:7dhist\n",
      "  - f_loc:phone_locations_doryab_maxlengthstayatclusters_norm:7dhist\n",
      "  - f_blue:phone_bluetooth_doryab_stdscansall_norm:7dhist\n",
      "  - f_call:phone_calls_rapids_incoming_modeduration_norm:7dhist\n",
      "  - f_loc:phone_locations_doryab_normalizedlocationentropy:7dhist\n",
      "  - f_slp:fitbit_sleep_intraday_rapids_ratiocountawakeunifiedwithinmain_norm:7dhist\n",
      "  - f_loc:phone_locations_barnett_stdflightdur_norm:7dhist\n",
      "  - f_steps:fitbit_steps_intraday_rapids_maxsteps_norm:7dhist\n",
      "  - f_wifi:phone_wifi_connected_rapids_uniquedevices_norm:7dhist\n",
      "  - f_call:phone_calls_rapids_outgoing_count_norm:7dhist\n",
      "  - f_loc:phone_locations_barnett_siglocentropy_norm:7dhist\n",
      "  - f_loc:phone_locations_doryab_timeattop2location_norm:7dhist\n",
      "  - f_screen:phone_screen_rapids_firstuseafter00unlock_locmap_home_norm:7dhist\n",
      "  - f_blue:phone_bluetooth_doryab_countscansmostfrequentdevicewithinsegmentsown_norm:7dhist\n",
      "  - f_steps:fitbit_steps_summary_rapids_stdsumsteps_norm:7dhist\n",
      "  - f_loc:phone_locations_doryab_movingtostaticratio_norm:7dhist\n",
      "  - f_screen:phone_screen_rapids_firstuseafter00unlock_norm:7dhist\n",
      "  - f_call:phone_calls_rapids_outgoing_minduration_norm:7dhist\n",
      "  - f_steps:fitbit_steps_intraday_rapids_avgdurationsedentarybout_norm:7dhist\n",
      "  - f_blue:phone_bluetooth_doryab_countscansleastfrequentdeviceacrossdatasetown_norm:7dhist\n",
      "  - f_wifi:phone_wifi_connected_rapids_countscans_norm:7dhist\n",
      "  - f_loc:phone_locations_barnett_maxhomedist_norm:7dhist\n",
      "  - f_blue:phone_bluetooth_rapids_uniquedevices_norm:7dhist\n",
      "  - f_blue:phone_bluetooth_doryab_countscansleastfrequentdeviceacrosssegmentsown_norm:7dhist\n",
      "  - f_steps:fitbit_steps_summary_rapids_maxsumsteps_norm:7dhist\n",
      "  - f_slp:fitbit_sleep_intraday_rapids_sumdurationasleepunifiedmain_norm:7dhist\n",
      "  - f_blue:phone_bluetooth_doryab_uniquedevicesall_norm:7dhist\n",
      "  - f_blue:phone_bluetooth_doryab_countscansmostfrequentdeviceacrossdatasetothers_norm:7dhist\n",
      "  - f_slp:fitbit_sleep_intraday_rapids_mediandurationasleepunifiedmain_norm:7dhist\n",
      "  - f_loc:phone_locations_barnett_siglocsvisited_norm:7dhist\n",
      "  - f_screen:phone_screen_rapids_countepisodeunlock_locmap_study_norm:7dhist\n",
      "  - f_call:phone_calls_rapids_outgoing_stdduration_norm:7dhist\n",
      "  - f_slp:fitbit_sleep_intraday_rapids_ratiocountasleepunifiedwithinmain_norm:7dhist\n",
      "  - f_loc:phone_locations_doryab_normalizedlocationentropy_norm:7dhist\n",
      "  - f_blue:phone_bluetooth_doryab_countscansmostfrequentdeviceacrossdatasetall_norm:7dhist\n",
      "  - f_steps:fitbit_steps_intraday_rapids_sumdurationsedentarybout_norm:7dhist\n",
      "  - f_call:phone_calls_rapids_incoming_countmostfrequentcontact_norm:7dhist\n",
      "  - f_steps:fitbit_steps_intraday_rapids_minsteps_norm:7dhist\n",
      "  - f_blue:phone_bluetooth_doryab_countscansleastfrequentdeviceacrosssegmentsothers_norm:7dhist\n",
      "  - f_call:phone_calls_rapids_missed_distinctcontacts_norm:7dhist\n",
      "  - f_blue:phone_bluetooth_doryab_countscansleastfrequentdevicewithinsegmentsall_norm:7dhist\n",
      "  - f_blue:phone_bluetooth_doryab_countscansleastfrequentdeviceacrossdatasetothers_norm:7dhist\n",
      "  - f_slp:fitbit_sleep_summary_rapids_countepisodemain_norm:7dhist\n",
      "---------\n",
      "Columns only in not BFI predicting pos panas:\n",
      "  - f_screen:phone_screen_rapids_countepisodeunlock_locmap_greens_norm:7dhist\n",
      "  - f_blue:phone_bluetooth_doryab_uniquedevicesown_norm:7dhist\n",
      "  - f_blue:phone_bluetooth_doryab_countscansothers_norm:7dhist\n",
      "  - f_slp:fitbit_sleep_summary_rapids_avgdurationinbedmain_norm:7dhist\n",
      "  - BFI10_agreeableness_PRE\n",
      "  - BFI10_openness_PRE\n",
      "  - f_screen:phone_screen_rapids_firstuseafter00unlock_locmap_study_norm:7dhist\n",
      "  - f_screen:phone_screen_rapids_mindurationunlock_locmap_home_norm:7dhist\n",
      "  - f_screen:phone_screen_rapids_stddurationunlock_locmap_study_norm:7dhist\n",
      "  - BFI10_neuroticism_PRE\n",
      "  - f_screen:phone_screen_rapids_countepisodeunlock_locmap_exercise_norm:7dhist\n",
      "  - f_screen:phone_screen_rapids_firstuseafter00unlock_locmap_exercise_norm:7dhist\n",
      "  - BFI10_extroversion_PRE\n",
      "  - f_blue:phone_bluetooth_doryab_countscansown_norm:7dhist\n",
      "  - f_screen:phone_screen_rapids_mindurationunlock_locmap_living_norm:7dhist\n",
      "  - f_slp:fitbit_sleep_intraday_rapids_avgdurationawakeunifiedmain_norm:7dhist\n",
      "  - BFI10_conscientiousness_PRE\n",
      "  - f_loc:phone_locations_locmap_duration_in_locmap_greens_norm:7dhist\n",
      "  - f_screen:phone_screen_rapids_stddurationunlock_locmap_greens_norm:7dhist\n",
      "  - f_slp:fitbit_sleep_intraday_rapids_maxdurationasleepunifiedmain_norm:7dhist\n",
      "  - f_screen:phone_screen_rapids_stddurationunlock_locmap_home_norm:7dhist\n",
      "  - f_slp:fitbit_sleep_intraday_rapids_maxdurationawakeunifiedmain_norm:7dhist\n",
      "  - f_steps:fitbit_steps_intraday_rapids_stddurationsedentarybout_norm:7dhist\n",
      "  - f_slp:fitbit_sleep_summary_rapids_avgdurationawakemain_norm:7dhist\n",
      "  - f_screen:phone_screen_rapids_avgdurationunlock_locmap_home_norm:7dhist\n"
     ]
    }
   ],
   "source": [
    "# get columns in one but not the other\n",
    "columns_in_df1_not_in_df2 = set(new_merged_data_no_bfi_pos.columns) - set(new_merged_data_pos.columns)\n",
    "\n",
    "columns_in_df2_not_in_df1 = set(new_merged_data_pos.columns) - set(new_merged_data_no_bfi_pos.columns)\n",
    "\n",
    "print(\"Columns only in not BFI predicting pos panas:\")\n",
    "for col in columns_in_df1_not_in_df2:\n",
    "    print(f\"  - {col}\")\n",
    "\n",
    "print('---------')\n",
    "print(\"Columns only in not BFI predicting pos panas:\")\n",
    "for col in columns_in_df2_not_in_df1:\n",
    "    print(f\"  - {col}\")"
   ]
  },
  {
   "cell_type": "code",
   "execution_count": 15,
   "metadata": {},
   "outputs": [],
   "source": [
    "mse_scorer = make_scorer(mean_squared_error, greater_is_better=False)\n",
    "kf = KFold(n_splits=5, shuffle=True, random_state=42)"
   ]
  },
  {
   "cell_type": "code",
   "execution_count": 16,
   "metadata": {},
   "outputs": [
    {
     "name": "stdout",
     "output_type": "stream",
     "text": [
      "12.008874462706526\n"
     ]
    }
   ],
   "source": [
    "print(mean_squared_error(np.mean(neg_y)*np.ones_like(neg_y), neg_y))"
   ]
  },
  {
   "cell_type": "code",
   "execution_count": 17,
   "metadata": {},
   "outputs": [
    {
     "name": "stdout",
     "output_type": "stream",
     "text": [
      "Fitting 5 folds for each of 360 candidates, totalling 1800 fits\n",
      "Best parameters: {'max_depth': None, 'min_samples_leaf': 1, 'min_samples_split': 2, 'n_estimators': 35}\n",
      "Best cross-validated score: -9.949285375948776\n",
      "Final model cross-validated scores: [-10.64256455  -9.57779819  -9.99539997  -9.89220854 -10.40540222]\n",
      "Final model mean score: -10.102674694004687\n"
     ]
    }
   ],
   "source": [
    "# no bfi panas negative\n",
    "rf = RandomForestRegressor()\n",
    "param_grid = {\n",
    "    'n_estimators': [5, 10, 15, 20, 25, 30, 35, 40],\n",
    "    'max_depth': [None, 5, 10, 15, 20],\n",
    "    'min_samples_split': [2, 5, 10],\n",
    "    'min_samples_leaf': [1, 2, 4]\n",
    "}\n",
    "grid_search = GridSearchCV(\n",
    "    estimator=rf,\n",
    "    param_grid=param_grid,\n",
    "    scoring=mse_scorer,\n",
    "    cv=kf,\n",
    "    verbose=1,\n",
    "    n_jobs=-1  \n",
    ")\n",
    "grid_search.fit(new_merged_data_no_bfi_neg, neg_y)\n",
    "print(\"Best parameters:\", grid_search.best_params_)\n",
    "print(\"Best cross-validated score:\", grid_search.best_score_)\n",
    "\n",
    "best_params = grid_search.best_params_\n",
    "final_rf_model = RandomForestRegressor(**best_params)\n",
    "final_rf_model.fit(new_merged_data_no_bfi_neg, neg_y)\n",
    "final_cv_scores = cross_val_score(\n",
    "    final_rf_model, \n",
    "    new_merged_data_no_bfi_neg, \n",
    "    neg_y, \n",
    "    cv=kf, \n",
    "    scoring=mse_scorer\n",
    ")\n",
    "\n",
    "print(\"Final model cross-validated scores:\", final_cv_scores)\n",
    "print(\"Final model mean score:\", np.mean(final_cv_scores))"
   ]
  },
  {
   "cell_type": "code",
   "execution_count": 18,
   "metadata": {},
   "outputs": [
    {
     "name": "stdout",
     "output_type": "stream",
     "text": [
      "Fitting 5 folds for each of 360 candidates, totalling 1800 fits\n",
      "Best parameters: {'max_depth': None, 'min_samples_leaf': 1, 'min_samples_split': 2, 'n_estimators': 35}\n",
      "Best cross-validated score: -7.866726324760887\n",
      "Final model cross-validated scores: [-8.41396752 -7.41902648 -8.17363598 -7.56772328 -7.60103616]\n",
      "Final model mean score: -7.835077882364585\n"
     ]
    }
   ],
   "source": [
    "# with bfi panas negative\n",
    "rf = RandomForestRegressor()\n",
    "param_grid = {\n",
    "    'n_estimators': [5, 10, 15, 20, 25, 30, 35, 40],\n",
    "    'max_depth': [None, 5, 10, 15, 20],\n",
    "    'min_samples_split': [2, 5, 10],\n",
    "    'min_samples_leaf': [1, 2, 4]\n",
    "}\n",
    "grid_search = GridSearchCV(\n",
    "    estimator=rf,\n",
    "    param_grid=param_grid,\n",
    "    scoring=mse_scorer,\n",
    "    cv=kf,\n",
    "    verbose=1,\n",
    "    n_jobs=-1  \n",
    ")\n",
    "grid_search.fit(new_merged_data_neg, neg_y)\n",
    "print(\"Best parameters:\", grid_search.best_params_)\n",
    "print(\"Best cross-validated score:\", grid_search.best_score_)\n",
    "\n",
    "best_params = grid_search.best_params_\n",
    "final_rf_model = RandomForestRegressor(**best_params)\n",
    "final_rf_model.fit(new_merged_data_neg, neg_y)\n",
    "final_cv_scores = cross_val_score(\n",
    "    final_rf_model, \n",
    "    new_merged_data_neg, \n",
    "    neg_y, \n",
    "    cv=kf, \n",
    "    scoring=mse_scorer\n",
    ")\n",
    "\n",
    "print(\"Final model cross-validated scores:\", final_cv_scores)\n",
    "print(\"Final model mean score:\", np.mean(final_cv_scores))"
   ]
  },
  {
   "cell_type": "code",
   "execution_count": 19,
   "metadata": {},
   "outputs": [
    {
     "name": "stdout",
     "output_type": "stream",
     "text": [
      "22.479801143006924\n"
     ]
    }
   ],
   "source": [
    "print(mean_squared_error(np.mean(pos_y)*np.ones_like(pos_y), pos_y))"
   ]
  },
  {
   "cell_type": "code",
   "execution_count": 20,
   "metadata": {},
   "outputs": [
    {
     "name": "stdout",
     "output_type": "stream",
     "text": [
      "Fitting 5 folds for each of 360 candidates, totalling 1800 fits\n",
      "Best parameters: {'max_depth': None, 'min_samples_leaf': 1, 'min_samples_split': 5, 'n_estimators': 40}\n",
      "Best cross-validated score: -16.805635714862916\n",
      "Final model cross-validated scores: [-17.52383076 -16.48733869 -16.41281191 -16.75352727 -16.69563483]\n",
      "Final model mean score: -16.774628689555232\n"
     ]
    }
   ],
   "source": [
    "# no bfi panas positive\n",
    "rf = RandomForestRegressor()\n",
    "param_grid = {\n",
    "    'n_estimators': [5, 10, 15, 20, 25, 30, 35, 40],\n",
    "    'max_depth': [None, 5, 10, 15, 20],\n",
    "    'min_samples_split': [2, 5, 10],\n",
    "    'min_samples_leaf': [1, 2, 4]\n",
    "}\n",
    "grid_search = GridSearchCV(\n",
    "    estimator=rf,\n",
    "    param_grid=param_grid,\n",
    "    scoring=mse_scorer,\n",
    "    cv=kf,\n",
    "    verbose=1,\n",
    "    n_jobs=-1  # Use all available cores\n",
    ")\n",
    "grid_search.fit(new_merged_data_no_bfi_pos, pos_y)\n",
    "print(\"Best parameters:\", grid_search.best_params_)\n",
    "print(\"Best cross-validated score:\", grid_search.best_score_)\n",
    "\n",
    "best_params = grid_search.best_params_\n",
    "final_rf_model = RandomForestRegressor(**best_params)\n",
    "final_rf_model.fit(new_merged_data_no_bfi_pos, pos_y)\n",
    "final_cv_scores = cross_val_score(\n",
    "    final_rf_model, \n",
    "    new_merged_data_no_bfi_pos, \n",
    "    pos_y, \n",
    "    cv=kf, \n",
    "    scoring=mse_scorer\n",
    ")\n",
    "\n",
    "print(\"Final model cross-validated scores:\", final_cv_scores)\n",
    "print(\"Final model mean score:\", np.mean(final_cv_scores))"
   ]
  },
  {
   "cell_type": "code",
   "execution_count": 21,
   "metadata": {},
   "outputs": [
    {
     "name": "stdout",
     "output_type": "stream",
     "text": [
      "Fitting 5 folds for each of 360 candidates, totalling 1800 fits\n"
     ]
    },
    {
     "name": "stderr",
     "output_type": "stream",
     "text": [
      "/Users/aaron/Desktop/HW/MED_264/lib/python3.11/site-packages/joblib/externals/loky/process_executor.py:752: UserWarning: A worker stopped while some jobs were given to the executor. This can be caused by a too short worker timeout or by a memory leak.\n",
      "  warnings.warn(\n"
     ]
    },
    {
     "name": "stdout",
     "output_type": "stream",
     "text": [
      "Best parameters: {'max_depth': None, 'min_samples_leaf': 1, 'min_samples_split': 2, 'n_estimators': 40}\n",
      "Best cross-validated score: -10.821474541110614\n",
      "Final model cross-validated scores: [-11.11672084 -10.36566076 -10.83627607 -11.33154764 -10.8128228 ]\n",
      "Final model mean score: -10.892605625298817\n"
     ]
    }
   ],
   "source": [
    "# with bfi panas positive\n",
    "rf = RandomForestRegressor()\n",
    "param_grid = {\n",
    "    'n_estimators': [5, 10, 15, 20, 25, 30, 35, 40],\n",
    "    'max_depth': [None, 5, 10, 15, 20],\n",
    "    'min_samples_split': [2, 5, 10],\n",
    "    'min_samples_leaf': [1, 2, 4]\n",
    "}\n",
    "grid_search = GridSearchCV(\n",
    "    estimator=rf,\n",
    "    param_grid=param_grid,\n",
    "    scoring=mse_scorer,\n",
    "    cv=kf,\n",
    "    verbose=1,\n",
    "    n_jobs=-1  \n",
    ")\n",
    "grid_search.fit(new_merged_data_pos, pos_y)\n",
    "print(\"Best parameters:\", grid_search.best_params_)\n",
    "print(\"Best cross-validated score:\", grid_search.best_score_)\n",
    "\n",
    "best_params = grid_search.best_params_\n",
    "final_rf_model = RandomForestRegressor(**best_params)\n",
    "final_rf_model.fit(new_merged_data_pos, pos_y)\n",
    "final_cv_scores = cross_val_score(\n",
    "    final_rf_model, \n",
    "    new_merged_data_pos, \n",
    "    pos_y, \n",
    "    cv=kf, \n",
    "    scoring=mse_scorer\n",
    ")\n",
    "\n",
    "print(\"Final model cross-validated scores:\", final_cv_scores)\n",
    "print(\"Final model mean score:\", np.mean(final_cv_scores))"
   ]
  }
 ],
 "metadata": {
  "colab": {
   "provenance": []
  },
  "kernelspec": {
   "display_name": "med_264",
   "language": "python",
   "name": "med_264"
  },
  "language_info": {
   "codemirror_mode": {
    "name": "ipython",
    "version": 3
   },
   "file_extension": ".py",
   "mimetype": "text/x-python",
   "name": "python",
   "nbconvert_exporter": "python",
   "pygments_lexer": "ipython3",
   "version": "3.11.7"
  }
 },
 "nbformat": 4,
 "nbformat_minor": 4
}
